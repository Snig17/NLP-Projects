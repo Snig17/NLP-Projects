{
 "cells": [
  {
   "cell_type": "markdown",
   "id": "69ea5f67",
   "metadata": {},
   "source": [
    "# Predict-Closed-Question-StackOverFlow"
   ]
  },
  {
   "cell_type": "markdown",
   "id": "64299997",
   "metadata": {},
   "source": [
    "Millions of programmers use Stack Overflow to get high quality answers to their programming questions every day. We take quality very seriously, and have evolved an effective culture of moderation to safe-guard it.\n",
    "\n",
    "With more than six thousand new questions asked on Stack Overflow every weekday we're looking to add more sophisticated software solutions to our moderation toolbox.\n",
    "\n",
    "Closing Questions\n",
    "\n",
    "Currently about 6% of all new questions end up \"closed\". Questions can be closed as off topic, not constructive, not a real question, or too localized. More in depth descriptions of each reason can be found in the Stack Overflow FAQ. The exact duplicate close reason has been excluded from this contest, since it depends on previous questions.\n",
    "\n",
    "Your goal is to build a classifier that predicts whether or not a question will be closed given the question as submitted, along with the reason that the question was closed. Additional data about the user at question creation time is also available."
   ]
  },
  {
   "cell_type": "markdown",
   "id": "555355fa",
   "metadata": {},
   "source": [
    "# Dataset Link"
   ]
  },
  {
   "cell_type": "markdown",
   "id": "ba29de0b",
   "metadata": {},
   "source": [
    "https://www.kaggle.com/competitions/predict-closed-questions-on-stack-overflow/data"
   ]
  },
  {
   "cell_type": "markdown",
   "id": "5c34c45d",
   "metadata": {},
   "source": [
    "# Dataset Description"
   ]
  },
  {
   "cell_type": "markdown",
   "id": "9c5cfb65",
   "metadata": {},
   "source": [
    "The training data contains data through July 31st UTC, and the public leaderboard data goes from August 1 UTC to August 14 UTC.\n",
    "\n",
    "The train.csv file contains post text and associated metadata at the time of post creation which will serve as inputs to your solution. The state of the post as of July 31st is also included. It contains the following fields (not in this order):\n",
    "\n",
    "Input\n",
    "PostCreationDate\n",
    "OwnerUserId\n",
    "OwnerCreationDate\n",
    "ReputationAtPostCreation\n",
    "OwnerUndeletedAnswerCountAtPostTime\n",
    "Title\n",
    "BodyMarkdown\n",
    "Tag1\n",
    "Tag2\n",
    "Tag3\n",
    "Tag4\n",
    "Tag5\n",
    "Output\n",
    "OpenStatus\n",
    "Additional Data\n",
    "PostId\n",
    "PostClosedDate\n",
    "The public leaderboard data contains all of the above fields, except for the target field OpenStatus and PostClosedDate.\n",
    "\n",
    "The file train-sample.csv is a stratified sample of the training data: it contains every closed question and an equally-sized random sample of the open questions in the training data.\n",
    "\n",
    "All questions will have a value in Tag1, but Tags 2 through 5 are optional.\n",
    "\n",
    "To convert the user submitted Markdown found in BodyMarkdown to HTML if desired, our open source implementations in C# and Javascript may be useful.\n",
    "\n",
    "Additional data can be found in \"2012-07 Stack Overflow.7z\", which contains an entire public data dump of Stack Overflow. Descriptions of the values can be found in the archive itself as well as on Meta Stack Overflow. This data will not be available as inputs, but may be useful in building your solution. As it is rather large (6GB) you may find it easier to download as a torrent, more details can be found in this forum post.\n",
    "\n",
    "Using 8000 smaples only from data to can fit in the memory"
   ]
  },
  {
   "cell_type": "markdown",
   "id": "7e3e383a",
   "metadata": {},
   "source": [
    "# CODE IMPLEMENTATION"
   ]
  },
  {
   "cell_type": "markdown",
   "id": "069d5475",
   "metadata": {},
   "source": [
    "Steps involved:\n",
    "    Step-1: Basic imports\n",
    "    Step-2:Exploratory Data Analysis\n",
    "    Step-3:Feature Engineering\n",
    "    Step-4:Generate Test & Train\n",
    "    Step-5:Training Model\n",
    "    Step-6:Model Evalution"
   ]
  },
  {
   "cell_type": "markdown",
   "id": "0e95cd37",
   "metadata": {},
   "source": [
    "# Step-1:Basic imports"
   ]
  },
  {
   "cell_type": "code",
   "execution_count": 2,
   "id": "a4740ecd",
   "metadata": {},
   "outputs": [],
   "source": [
    "import numpy as np # linear algebra.\n",
    "import pandas as pd # Data processing, CSV file I/O (e.g. pd.read_csv).\n",
    "import re#Used to work with Regular Expressions.\n",
    "import spacy#Allows you to you divide a text into linguistically meaningful units.\n",
    "import matplotlib.pyplot as plt\n"
   ]
  },
  {
   "cell_type": "markdown",
   "id": "d2d5c37a",
   "metadata": {},
   "source": [
    "# Step-2:  Exploratory Data Analysis"
   ]
  },
  {
   "cell_type": "markdown",
   "id": "c772cffb",
   "metadata": {},
   "source": [
    "### Importing & Reading data"
   ]
  },
  {
   "cell_type": "code",
   "execution_count": 3,
   "id": "f53aadfb",
   "metadata": {},
   "outputs": [],
   "source": [
    "data = pd.read_csv(\"C:\\\\Users\\\\Snigdha\\\\New folder\\\\Studies\\\\PROJECTS\\\\Predict closed questions on Stack Overflow\\\\train-sample.csv\")"
   ]
  },
  {
   "cell_type": "markdown",
   "id": "5ae001fc",
   "metadata": {},
   "source": [
    "### View data"
   ]
  },
  {
   "cell_type": "code",
   "execution_count": 4,
   "id": "fb773066",
   "metadata": {},
   "outputs": [
    {
     "data": {
      "text/html": [
       "<div>\n",
       "<style scoped>\n",
       "    .dataframe tbody tr th:only-of-type {\n",
       "        vertical-align: middle;\n",
       "    }\n",
       "\n",
       "    .dataframe tbody tr th {\n",
       "        vertical-align: top;\n",
       "    }\n",
       "\n",
       "    .dataframe thead th {\n",
       "        text-align: right;\n",
       "    }\n",
       "</style>\n",
       "<table border=\"1\" class=\"dataframe\">\n",
       "  <thead>\n",
       "    <tr style=\"text-align: right;\">\n",
       "      <th></th>\n",
       "      <th>PostId</th>\n",
       "      <th>PostCreationDate</th>\n",
       "      <th>OwnerUserId</th>\n",
       "      <th>OwnerCreationDate</th>\n",
       "      <th>ReputationAtPostCreation</th>\n",
       "      <th>OwnerUndeletedAnswerCountAtPostTime</th>\n",
       "      <th>Title</th>\n",
       "      <th>BodyMarkdown</th>\n",
       "      <th>Tag1</th>\n",
       "      <th>Tag2</th>\n",
       "      <th>Tag3</th>\n",
       "      <th>Tag4</th>\n",
       "      <th>Tag5</th>\n",
       "      <th>PostClosedDate</th>\n",
       "      <th>OpenStatus</th>\n",
       "    </tr>\n",
       "  </thead>\n",
       "  <tbody>\n",
       "    <tr>\n",
       "      <th>0</th>\n",
       "      <td>6046168</td>\n",
       "      <td>05/18/2011 14:14:05</td>\n",
       "      <td>543315</td>\n",
       "      <td>09/17/2010 10:15:06</td>\n",
       "      <td>1</td>\n",
       "      <td>2</td>\n",
       "      <td>For Mongodb is it better to reference an objec...</td>\n",
       "      <td>I am building a corpus of indexed sentences in...</td>\n",
       "      <td>mongodb</td>\n",
       "      <td>NaN</td>\n",
       "      <td>NaN</td>\n",
       "      <td>NaN</td>\n",
       "      <td>NaN</td>\n",
       "      <td>NaN</td>\n",
       "      <td>open</td>\n",
       "    </tr>\n",
       "    <tr>\n",
       "      <th>1</th>\n",
       "      <td>4873911</td>\n",
       "      <td>02/02/2011 11:30:10</td>\n",
       "      <td>465076</td>\n",
       "      <td>10/03/2010 09:30:58</td>\n",
       "      <td>192</td>\n",
       "      <td>24</td>\n",
       "      <td>How to insert schemalocation in a xml document...</td>\n",
       "      <td>i create a xml document with JAXP and search a...</td>\n",
       "      <td>dom</td>\n",
       "      <td>xsd</td>\n",
       "      <td>jaxp</td>\n",
       "      <td>NaN</td>\n",
       "      <td>NaN</td>\n",
       "      <td>NaN</td>\n",
       "      <td>open</td>\n",
       "    </tr>\n",
       "    <tr>\n",
       "      <th>2</th>\n",
       "      <td>3311559</td>\n",
       "      <td>07/22/2010 17:21:54</td>\n",
       "      <td>406143</td>\n",
       "      <td>07/22/2010 16:58:20</td>\n",
       "      <td>1</td>\n",
       "      <td>0</td>\n",
       "      <td>Too many lookup tables</td>\n",
       "      <td>What are the adverse effects of having too man...</td>\n",
       "      <td>sql-server</td>\n",
       "      <td>database-design</td>\n",
       "      <td>enums</td>\n",
       "      <td>NaN</td>\n",
       "      <td>NaN</td>\n",
       "      <td>NaN</td>\n",
       "      <td>open</td>\n",
       "    </tr>\n",
       "    <tr>\n",
       "      <th>3</th>\n",
       "      <td>9990413</td>\n",
       "      <td>04/03/2012 09:18:39</td>\n",
       "      <td>851755</td>\n",
       "      <td>07/19/2011 10:22:40</td>\n",
       "      <td>4</td>\n",
       "      <td>1</td>\n",
       "      <td>What is this PHP code in VB.net</td>\n",
       "      <td>I am looking for the vb.net equivalent of this...</td>\n",
       "      <td>php</td>\n",
       "      <td>vb.net</td>\n",
       "      <td>NaN</td>\n",
       "      <td>NaN</td>\n",
       "      <td>NaN</td>\n",
       "      <td>04/15/2012 21:12:48</td>\n",
       "      <td>too localized</td>\n",
       "    </tr>\n",
       "    <tr>\n",
       "      <th>4</th>\n",
       "      <td>10421966</td>\n",
       "      <td>05/02/2012 21:25:01</td>\n",
       "      <td>603588</td>\n",
       "      <td>02/04/2011 18:05:34</td>\n",
       "      <td>334</td>\n",
       "      <td>14</td>\n",
       "      <td>Spring-Data mongodb querying multiple classes ...</td>\n",
       "      <td>With Spring-Data, you can use the @Document an...</td>\n",
       "      <td>mongodb</td>\n",
       "      <td>spring-data</td>\n",
       "      <td>NaN</td>\n",
       "      <td>NaN</td>\n",
       "      <td>NaN</td>\n",
       "      <td>NaN</td>\n",
       "      <td>open</td>\n",
       "    </tr>\n",
       "  </tbody>\n",
       "</table>\n",
       "</div>"
      ],
      "text/plain": [
       "     PostId     PostCreationDate  OwnerUserId    OwnerCreationDate  \\\n",
       "0   6046168  05/18/2011 14:14:05       543315  09/17/2010 10:15:06   \n",
       "1   4873911  02/02/2011 11:30:10       465076  10/03/2010 09:30:58   \n",
       "2   3311559  07/22/2010 17:21:54       406143  07/22/2010 16:58:20   \n",
       "3   9990413  04/03/2012 09:18:39       851755  07/19/2011 10:22:40   \n",
       "4  10421966  05/02/2012 21:25:01       603588  02/04/2011 18:05:34   \n",
       "\n",
       "   ReputationAtPostCreation  OwnerUndeletedAnswerCountAtPostTime  \\\n",
       "0                         1                                    2   \n",
       "1                       192                                   24   \n",
       "2                         1                                    0   \n",
       "3                         4                                    1   \n",
       "4                       334                                   14   \n",
       "\n",
       "                                               Title  \\\n",
       "0  For Mongodb is it better to reference an objec...   \n",
       "1  How to insert schemalocation in a xml document...   \n",
       "2                            Too many lookup tables    \n",
       "3                    What is this PHP code in VB.net   \n",
       "4  Spring-Data mongodb querying multiple classes ...   \n",
       "\n",
       "                                        BodyMarkdown        Tag1  \\\n",
       "0  I am building a corpus of indexed sentences in...     mongodb   \n",
       "1  i create a xml document with JAXP and search a...         dom   \n",
       "2  What are the adverse effects of having too man...  sql-server   \n",
       "3  I am looking for the vb.net equivalent of this...         php   \n",
       "4  With Spring-Data, you can use the @Document an...     mongodb   \n",
       "\n",
       "              Tag2   Tag3 Tag4 Tag5       PostClosedDate     OpenStatus  \n",
       "0              NaN    NaN  NaN  NaN                  NaN           open  \n",
       "1              xsd   jaxp  NaN  NaN                  NaN           open  \n",
       "2  database-design  enums  NaN  NaN                  NaN           open  \n",
       "3           vb.net    NaN  NaN  NaN  04/15/2012 21:12:48  too localized  \n",
       "4      spring-data    NaN  NaN  NaN                  NaN           open  "
      ]
     },
     "execution_count": 4,
     "metadata": {},
     "output_type": "execute_result"
    }
   ],
   "source": [
    "#The head() method returns a specified number of rows, string from the top.\n",
    "data.head()"
   ]
  },
  {
   "cell_type": "markdown",
   "id": "43783a6a",
   "metadata": {},
   "source": [
    "### Info of the data "
   ]
  },
  {
   "cell_type": "code",
   "execution_count": 5,
   "id": "c97ac9dc",
   "metadata": {},
   "outputs": [
    {
     "name": "stdout",
     "output_type": "stream",
     "text": [
      "<class 'pandas.core.frame.DataFrame'>\n",
      "RangeIndex: 140272 entries, 0 to 140271\n",
      "Data columns (total 15 columns):\n",
      " #   Column                               Non-Null Count   Dtype \n",
      "---  ------                               --------------   ----- \n",
      " 0   PostId                               140272 non-null  int64 \n",
      " 1   PostCreationDate                     140272 non-null  object\n",
      " 2   OwnerUserId                          140272 non-null  int64 \n",
      " 3   OwnerCreationDate                    140272 non-null  object\n",
      " 4   ReputationAtPostCreation             140272 non-null  int64 \n",
      " 5   OwnerUndeletedAnswerCountAtPostTime  140272 non-null  int64 \n",
      " 6   Title                                140272 non-null  object\n",
      " 7   BodyMarkdown                         140272 non-null  object\n",
      " 8   Tag1                                 140262 non-null  object\n",
      " 9   Tag2                                 113021 non-null  object\n",
      " 10  Tag3                                 75914 non-null   object\n",
      " 11  Tag4                                 39650 non-null   object\n",
      " 12  Tag5                                 15714 non-null   object\n",
      " 13  PostClosedDate                       70136 non-null   object\n",
      " 14  OpenStatus                           140272 non-null  object\n",
      "dtypes: int64(4), object(11)\n",
      "memory usage: 16.1+ MB\n"
     ]
    }
   ],
   "source": [
    "#The info() method prints information about the DataFrame\n",
    "data.info()"
   ]
  },
  {
   "cell_type": "markdown",
   "id": "261d6ed3",
   "metadata": {},
   "source": [
    "### Shape of the data"
   ]
  },
  {
   "cell_type": "code",
   "execution_count": 6,
   "id": "0657867f",
   "metadata": {},
   "outputs": [
    {
     "data": {
      "text/plain": [
       "(140272, 15)"
      ]
     },
     "execution_count": 6,
     "metadata": {},
     "output_type": "execute_result"
    }
   ],
   "source": [
    "#The shape property returns a tuple containing the shape of the DataFrame.\n",
    "data.shape"
   ]
  },
  {
   "cell_type": "markdown",
   "id": "56d30534",
   "metadata": {},
   "source": [
    "### nunique() Method"
   ]
  },
  {
   "cell_type": "code",
   "execution_count": 7,
   "id": "f82c12a2",
   "metadata": {},
   "outputs": [
    {
     "data": {
      "text/plain": [
       "PostId                                 140272\n",
       "PostCreationDate                       140118\n",
       "OwnerUserId                             94215\n",
       "OwnerCreationDate                       94149\n",
       "ReputationAtPostCreation                 6423\n",
       "OwnerUndeletedAnswerCountAtPostTime       965\n",
       "Title                                  140192\n",
       "BodyMarkdown                           140270\n",
       "Tag1                                     5209\n",
       "Tag2                                     9292\n",
       "Tag3                                    11080\n",
       "Tag4                                    10027\n",
       "Tag5                                     7605\n",
       "PostClosedDate                          70070\n",
       "OpenStatus                                  5\n",
       "dtype: int64"
      ]
     },
     "execution_count": 7,
     "metadata": {},
     "output_type": "execute_result"
    }
   ],
   "source": [
    "#Return the number of unique values for each column.\n",
    "data.nunique()"
   ]
  },
  {
   "cell_type": "markdown",
   "id": "8af3f824",
   "metadata": {},
   "source": [
    "### DataFrame.sample"
   ]
  },
  {
   "cell_type": "code",
   "execution_count": 8,
   "id": "517de57e",
   "metadata": {
    "scrolled": false
   },
   "outputs": [
    {
     "data": {
      "text/html": [
       "<div>\n",
       "<style scoped>\n",
       "    .dataframe tbody tr th:only-of-type {\n",
       "        vertical-align: middle;\n",
       "    }\n",
       "\n",
       "    .dataframe tbody tr th {\n",
       "        vertical-align: top;\n",
       "    }\n",
       "\n",
       "    .dataframe thead th {\n",
       "        text-align: right;\n",
       "    }\n",
       "</style>\n",
       "<table border=\"1\" class=\"dataframe\">\n",
       "  <thead>\n",
       "    <tr style=\"text-align: right;\">\n",
       "      <th></th>\n",
       "      <th>PostId</th>\n",
       "      <th>PostCreationDate</th>\n",
       "      <th>OwnerUserId</th>\n",
       "      <th>OwnerCreationDate</th>\n",
       "      <th>ReputationAtPostCreation</th>\n",
       "      <th>OwnerUndeletedAnswerCountAtPostTime</th>\n",
       "      <th>Title</th>\n",
       "      <th>BodyMarkdown</th>\n",
       "      <th>Tag1</th>\n",
       "      <th>Tag2</th>\n",
       "      <th>Tag3</th>\n",
       "      <th>Tag4</th>\n",
       "      <th>Tag5</th>\n",
       "      <th>PostClosedDate</th>\n",
       "      <th>OpenStatus</th>\n",
       "    </tr>\n",
       "  </thead>\n",
       "  <tbody>\n",
       "    <tr>\n",
       "      <th>122715</th>\n",
       "      <td>1296097</td>\n",
       "      <td>08/18/2009 19:51:02</td>\n",
       "      <td>135646</td>\n",
       "      <td>07/09/2009 13:13:22</td>\n",
       "      <td>146</td>\n",
       "      <td>13</td>\n",
       "      <td>How to serialize Color property as ARGB values?</td>\n",
       "      <td>I'm working with Windows Forms designer. It se...</td>\n",
       "      <td>winforms</td>\n",
       "      <td>windows-form-designer</td>\n",
       "      <td>colors</td>\n",
       "      <td>rgb</td>\n",
       "      <td>serialization</td>\n",
       "      <td>NaN</td>\n",
       "      <td>open</td>\n",
       "    </tr>\n",
       "    <tr>\n",
       "      <th>29350</th>\n",
       "      <td>9349765</td>\n",
       "      <td>02/19/2012 13:52:14</td>\n",
       "      <td>1216512</td>\n",
       "      <td>02/17/2012 14:57:14</td>\n",
       "      <td>1</td>\n",
       "      <td>0</td>\n",
       "      <td>Sending large files in java</td>\n",
       "      <td>How to send large files (2-3 GB) over the netw...</td>\n",
       "      <td>networking</td>\n",
       "      <td>NaN</td>\n",
       "      <td>NaN</td>\n",
       "      <td>NaN</td>\n",
       "      <td>NaN</td>\n",
       "      <td>02/20/2012 14:17:34</td>\n",
       "      <td>not a real question</td>\n",
       "    </tr>\n",
       "    <tr>\n",
       "      <th>6938</th>\n",
       "      <td>10974978</td>\n",
       "      <td>06/11/2012 05:47:32</td>\n",
       "      <td>748164</td>\n",
       "      <td>05/11/2011 07:12:53</td>\n",
       "      <td>44</td>\n",
       "      <td>1</td>\n",
       "      <td>How to Create personal online radio station?</td>\n",
       "      <td>I want to create my own radio station, that is...</td>\n",
       "      <td>asp.net</td>\n",
       "      <td>NaN</td>\n",
       "      <td>NaN</td>\n",
       "      <td>NaN</td>\n",
       "      <td>NaN</td>\n",
       "      <td>06/11/2012 07:35:28</td>\n",
       "      <td>off topic</td>\n",
       "    </tr>\n",
       "    <tr>\n",
       "      <th>131897</th>\n",
       "      <td>11364721</td>\n",
       "      <td>07/06/2012 15:00:12</td>\n",
       "      <td>623694</td>\n",
       "      <td>02/18/2011 19:35:31</td>\n",
       "      <td>677</td>\n",
       "      <td>32</td>\n",
       "      <td>how to name my android software legally?</td>\n",
       "      <td>Im new to android programming and i found a pr...</td>\n",
       "      <td>android</td>\n",
       "      <td>android-market</td>\n",
       "      <td>google-play</td>\n",
       "      <td>NaN</td>\n",
       "      <td>NaN</td>\n",
       "      <td>07/06/2012 15:54:05</td>\n",
       "      <td>off topic</td>\n",
       "    </tr>\n",
       "    <tr>\n",
       "      <th>10420</th>\n",
       "      <td>11076945</td>\n",
       "      <td>06/18/2012 04:31:24</td>\n",
       "      <td>1314162</td>\n",
       "      <td>04/05/2012 01:24:25</td>\n",
       "      <td>1</td>\n",
       "      <td>0</td>\n",
       "      <td>Broke Emacs 24 on Lion 10.7.4</td>\n",
       "      <td>I just managed to break my beloved Emacs on Li...</td>\n",
       "      <td>emacs</td>\n",
       "      <td>osx-lion</td>\n",
       "      <td>macports</td>\n",
       "      <td>ncurses</td>\n",
       "      <td>NaN</td>\n",
       "      <td>06/25/2012 15:57:29</td>\n",
       "      <td>off topic</td>\n",
       "    </tr>\n",
       "  </tbody>\n",
       "</table>\n",
       "</div>"
      ],
      "text/plain": [
       "          PostId     PostCreationDate  OwnerUserId    OwnerCreationDate  \\\n",
       "122715   1296097  08/18/2009 19:51:02       135646  07/09/2009 13:13:22   \n",
       "29350    9349765  02/19/2012 13:52:14      1216512  02/17/2012 14:57:14   \n",
       "6938    10974978  06/11/2012 05:47:32       748164  05/11/2011 07:12:53   \n",
       "131897  11364721  07/06/2012 15:00:12       623694  02/18/2011 19:35:31   \n",
       "10420   11076945  06/18/2012 04:31:24      1314162  04/05/2012 01:24:25   \n",
       "\n",
       "        ReputationAtPostCreation  OwnerUndeletedAnswerCountAtPostTime  \\\n",
       "122715                       146                                   13   \n",
       "29350                          1                                    0   \n",
       "6938                          44                                    1   \n",
       "131897                       677                                   32   \n",
       "10420                          1                                    0   \n",
       "\n",
       "                                                  Title  \\\n",
       "122715  How to serialize Color property as ARGB values?   \n",
       "29350                       Sending large files in java   \n",
       "6938       How to Create personal online radio station?   \n",
       "131897         how to name my android software legally?   \n",
       "10420                     Broke Emacs 24 on Lion 10.7.4   \n",
       "\n",
       "                                             BodyMarkdown        Tag1  \\\n",
       "122715  I'm working with Windows Forms designer. It se...    winforms   \n",
       "29350   How to send large files (2-3 GB) over the netw...  networking   \n",
       "6938    I want to create my own radio station, that is...     asp.net   \n",
       "131897  Im new to android programming and i found a pr...     android   \n",
       "10420   I just managed to break my beloved Emacs on Li...       emacs   \n",
       "\n",
       "                         Tag2         Tag3     Tag4           Tag5  \\\n",
       "122715  windows-form-designer       colors      rgb  serialization   \n",
       "29350                     NaN          NaN      NaN            NaN   \n",
       "6938                      NaN          NaN      NaN            NaN   \n",
       "131897         android-market  google-play      NaN            NaN   \n",
       "10420                osx-lion     macports  ncurses            NaN   \n",
       "\n",
       "             PostClosedDate           OpenStatus  \n",
       "122715                  NaN                 open  \n",
       "29350   02/20/2012 14:17:34  not a real question  \n",
       "6938    06/11/2012 07:35:28            off topic  \n",
       "131897  07/06/2012 15:54:05            off topic  \n",
       "10420   06/25/2012 15:57:29            off topic  "
      ]
     },
     "execution_count": 8,
     "metadata": {},
     "output_type": "execute_result"
    }
   ],
   "source": [
    "#Return a random sample of items from an axis of object.\n",
    "data = data.sample(80000, random_state = 234)\n",
    "data.head()"
   ]
  },
  {
   "cell_type": "markdown",
   "id": "87517f4d",
   "metadata": {},
   "source": [
    "### Checking for Missing Values "
   ]
  },
  {
   "cell_type": "code",
   "execution_count": 9,
   "id": "b3795bbd",
   "metadata": {},
   "outputs": [
    {
     "data": {
      "text/plain": [
       "PostId                                     0\n",
       "PostCreationDate                           0\n",
       "OwnerUserId                                0\n",
       "OwnerCreationDate                          0\n",
       "ReputationAtPostCreation                   0\n",
       "OwnerUndeletedAnswerCountAtPostTime        0\n",
       "Title                                      0\n",
       "BodyMarkdown                               0\n",
       "Tag1                                       6\n",
       "Tag2                                   15642\n",
       "Tag3                                   36753\n",
       "Tag4                                   57231\n",
       "Tag5                                   71055\n",
       "PostClosedDate                         40024\n",
       "OpenStatus                                 0\n",
       "dtype: int64"
      ]
     },
     "execution_count": 9,
     "metadata": {},
     "output_type": "execute_result"
    }
   ],
   "source": [
    "data.isnull().sum()"
   ]
  },
  {
   "cell_type": "code",
   "execution_count": 10,
   "id": "9d134da5",
   "metadata": {},
   "outputs": [],
   "source": [
    "data = data[['Title', 'BodyMarkdown', 'OpenStatus']]"
   ]
  },
  {
   "cell_type": "code",
   "execution_count": 11,
   "id": "70a4d71d",
   "metadata": {},
   "outputs": [
    {
     "data": {
      "text/html": [
       "<div>\n",
       "<style scoped>\n",
       "    .dataframe tbody tr th:only-of-type {\n",
       "        vertical-align: middle;\n",
       "    }\n",
       "\n",
       "    .dataframe tbody tr th {\n",
       "        vertical-align: top;\n",
       "    }\n",
       "\n",
       "    .dataframe thead th {\n",
       "        text-align: right;\n",
       "    }\n",
       "</style>\n",
       "<table border=\"1\" class=\"dataframe\">\n",
       "  <thead>\n",
       "    <tr style=\"text-align: right;\">\n",
       "      <th></th>\n",
       "      <th>Title</th>\n",
       "      <th>BodyMarkdown</th>\n",
       "      <th>OpenStatus</th>\n",
       "    </tr>\n",
       "  </thead>\n",
       "  <tbody>\n",
       "    <tr>\n",
       "      <th>122715</th>\n",
       "      <td>How to serialize Color property as ARGB values?</td>\n",
       "      <td>I'm working with Windows Forms designer. It se...</td>\n",
       "      <td>open</td>\n",
       "    </tr>\n",
       "    <tr>\n",
       "      <th>29350</th>\n",
       "      <td>Sending large files in java</td>\n",
       "      <td>How to send large files (2-3 GB) over the netw...</td>\n",
       "      <td>not a real question</td>\n",
       "    </tr>\n",
       "    <tr>\n",
       "      <th>6938</th>\n",
       "      <td>How to Create personal online radio station?</td>\n",
       "      <td>I want to create my own radio station, that is...</td>\n",
       "      <td>off topic</td>\n",
       "    </tr>\n",
       "    <tr>\n",
       "      <th>131897</th>\n",
       "      <td>how to name my android software legally?</td>\n",
       "      <td>Im new to android programming and i found a pr...</td>\n",
       "      <td>off topic</td>\n",
       "    </tr>\n",
       "    <tr>\n",
       "      <th>10420</th>\n",
       "      <td>Broke Emacs 24 on Lion 10.7.4</td>\n",
       "      <td>I just managed to break my beloved Emacs on Li...</td>\n",
       "      <td>off topic</td>\n",
       "    </tr>\n",
       "  </tbody>\n",
       "</table>\n",
       "</div>"
      ],
      "text/plain": [
       "                                                  Title  \\\n",
       "122715  How to serialize Color property as ARGB values?   \n",
       "29350                       Sending large files in java   \n",
       "6938       How to Create personal online radio station?   \n",
       "131897         how to name my android software legally?   \n",
       "10420                     Broke Emacs 24 on Lion 10.7.4   \n",
       "\n",
       "                                             BodyMarkdown           OpenStatus  \n",
       "122715  I'm working with Windows Forms designer. It se...                 open  \n",
       "29350   How to send large files (2-3 GB) over the netw...  not a real question  \n",
       "6938    I want to create my own radio station, that is...            off topic  \n",
       "131897  Im new to android programming and i found a pr...            off topic  \n",
       "10420   I just managed to break my beloved Emacs on Li...            off topic  "
      ]
     },
     "execution_count": 11,
     "metadata": {},
     "output_type": "execute_result"
    }
   ],
   "source": [
    "data.head()"
   ]
  },
  {
   "cell_type": "code",
   "execution_count": 12,
   "id": "b684fd16",
   "metadata": {},
   "outputs": [],
   "source": [
    "data = data.dropna()"
   ]
  },
  {
   "cell_type": "code",
   "execution_count": 13,
   "id": "080a6070",
   "metadata": {},
   "outputs": [
    {
     "data": {
      "text/plain": [
       "Title           0\n",
       "BodyMarkdown    0\n",
       "OpenStatus      0\n",
       "dtype: int64"
      ]
     },
     "execution_count": 13,
     "metadata": {},
     "output_type": "execute_result"
    }
   ],
   "source": [
    "data.isnull().sum()"
   ]
  },
  {
   "cell_type": "markdown",
   "id": "3f0c3a4c",
   "metadata": {},
   "source": [
    "# Step-3:Feature Engineering"
   ]
  },
  {
   "cell_type": "code",
   "execution_count": 14,
   "id": "af7e6793",
   "metadata": {},
   "outputs": [],
   "source": [
    "from sklearn.preprocessing import LabelEncoder\n",
    "# Let's covvert words to numbers using TF-IDF \n",
    "from sklearn.feature_extraction.text import TfidfVectorizer\n",
    "from keras.layers import Dense, Flatten, Input\n",
    "from keras.models import Sequential\n",
    "from keras.callbacks import EarlyStopping, ModelCheckpoint"
   ]
  },
  {
   "cell_type": "markdown",
   "id": "bf3cdcb4",
   "metadata": {},
   "source": [
    "### Removing all punctuation"
   ]
  },
  {
   "cell_type": "code",
   "execution_count": 15,
   "id": "ca341c15",
   "metadata": {},
   "outputs": [],
   "source": [
    "def remove_num_punc(text):\n",
    "    text = re.sub(r'[^a-zA-Z]', ' ', text)\n",
    "    return text.lower()"
   ]
  },
  {
   "cell_type": "markdown",
   "id": "84209b5a",
   "metadata": {},
   "source": [
    "### Lemmatization"
   ]
  },
  {
   "cell_type": "code",
   "execution_count": 16,
   "id": "aaf353e5",
   "metadata": {},
   "outputs": [],
   "source": [
    "def lemmitization(text):\n",
    "    words = ''\n",
    "    for word in text:\n",
    "        words += ' ' + word.lemma_\n",
    "    return words"
   ]
  },
  {
   "cell_type": "code",
   "execution_count": 17,
   "id": "94c2ddcf",
   "metadata": {},
   "outputs": [],
   "source": [
    "nlp = spacy.load('en_core_web_sm')"
   ]
  },
  {
   "cell_type": "markdown",
   "id": "b28d52d1",
   "metadata": {},
   "source": [
    "### Extract important features as title, BodyMarkdown and OpenStatue"
   ]
  },
  {
   "cell_type": "code",
   "execution_count": 18,
   "id": "4d48cd68",
   "metadata": {},
   "outputs": [],
   "source": [
    "data['Title'] = data['Title'].apply(lambda x: remove_num_punc(x))\n",
    "data['BodyMarkdown'] = data['BodyMarkdown'].apply(lambda x: remove_num_punc(x))"
   ]
  },
  {
   "cell_type": "code",
   "execution_count": 19,
   "id": "f9dfe015",
   "metadata": {},
   "outputs": [
    {
     "data": {
      "text/html": [
       "<div>\n",
       "<style scoped>\n",
       "    .dataframe tbody tr th:only-of-type {\n",
       "        vertical-align: middle;\n",
       "    }\n",
       "\n",
       "    .dataframe tbody tr th {\n",
       "        vertical-align: top;\n",
       "    }\n",
       "\n",
       "    .dataframe thead th {\n",
       "        text-align: right;\n",
       "    }\n",
       "</style>\n",
       "<table border=\"1\" class=\"dataframe\">\n",
       "  <thead>\n",
       "    <tr style=\"text-align: right;\">\n",
       "      <th></th>\n",
       "      <th>Title</th>\n",
       "      <th>BodyMarkdown</th>\n",
       "      <th>OpenStatus</th>\n",
       "    </tr>\n",
       "  </thead>\n",
       "  <tbody>\n",
       "    <tr>\n",
       "      <th>122715</th>\n",
       "      <td>how to serialize color property as argb values</td>\n",
       "      <td>i m working with windows forms designer  it se...</td>\n",
       "      <td>open</td>\n",
       "    </tr>\n",
       "    <tr>\n",
       "      <th>29350</th>\n",
       "      <td>sending large files in java</td>\n",
       "      <td>how to send large files      gb  over the netw...</td>\n",
       "      <td>not a real question</td>\n",
       "    </tr>\n",
       "    <tr>\n",
       "      <th>6938</th>\n",
       "      <td>how to create personal online radio station</td>\n",
       "      <td>i want to create my own radio station  that is...</td>\n",
       "      <td>off topic</td>\n",
       "    </tr>\n",
       "    <tr>\n",
       "      <th>131897</th>\n",
       "      <td>how to name my android software legally</td>\n",
       "      <td>im new to android programming and i found a pr...</td>\n",
       "      <td>off topic</td>\n",
       "    </tr>\n",
       "    <tr>\n",
       "      <th>10420</th>\n",
       "      <td>broke emacs    on lion</td>\n",
       "      <td>i just managed to break my beloved emacs on li...</td>\n",
       "      <td>off topic</td>\n",
       "    </tr>\n",
       "  </tbody>\n",
       "</table>\n",
       "</div>"
      ],
      "text/plain": [
       "                                                  Title  \\\n",
       "122715  how to serialize color property as argb values    \n",
       "29350                       sending large files in java   \n",
       "6938       how to create personal online radio station    \n",
       "131897         how to name my android software legally    \n",
       "10420                     broke emacs    on lion          \n",
       "\n",
       "                                             BodyMarkdown           OpenStatus  \n",
       "122715  i m working with windows forms designer  it se...                 open  \n",
       "29350   how to send large files      gb  over the netw...  not a real question  \n",
       "6938    i want to create my own radio station  that is...            off topic  \n",
       "131897  im new to android programming and i found a pr...            off topic  \n",
       "10420   i just managed to break my beloved emacs on li...            off topic  "
      ]
     },
     "execution_count": 19,
     "metadata": {},
     "output_type": "execute_result"
    }
   ],
   "source": [
    "data.head()"
   ]
  },
  {
   "cell_type": "markdown",
   "id": "bf8123da",
   "metadata": {},
   "source": [
    "### Encode Labels using LabelEncoder"
   ]
  },
  {
   "cell_type": "code",
   "execution_count": 20,
   "id": "f9552d4d",
   "metadata": {},
   "outputs": [],
   "source": [
    "encoder = LabelEncoder()\n",
    "# data['Tag1'] = encoder.fit_transform(data['Tag1'])\n",
    "data['OpenStatus'] = encoder.fit_transform(data['OpenStatus'])"
   ]
  },
  {
   "cell_type": "code",
   "execution_count": 21,
   "id": "498ae602",
   "metadata": {},
   "outputs": [
    {
     "data": {
      "text/html": [
       "<div>\n",
       "<style scoped>\n",
       "    .dataframe tbody tr th:only-of-type {\n",
       "        vertical-align: middle;\n",
       "    }\n",
       "\n",
       "    .dataframe tbody tr th {\n",
       "        vertical-align: top;\n",
       "    }\n",
       "\n",
       "    .dataframe thead th {\n",
       "        text-align: right;\n",
       "    }\n",
       "</style>\n",
       "<table border=\"1\" class=\"dataframe\">\n",
       "  <thead>\n",
       "    <tr style=\"text-align: right;\">\n",
       "      <th></th>\n",
       "      <th>Title</th>\n",
       "      <th>BodyMarkdown</th>\n",
       "      <th>OpenStatus</th>\n",
       "    </tr>\n",
       "  </thead>\n",
       "  <tbody>\n",
       "    <tr>\n",
       "      <th>122715</th>\n",
       "      <td>how to serialize color property as argb values</td>\n",
       "      <td>i m working with windows forms designer  it se...</td>\n",
       "      <td>3</td>\n",
       "    </tr>\n",
       "    <tr>\n",
       "      <th>29350</th>\n",
       "      <td>sending large files in java</td>\n",
       "      <td>how to send large files      gb  over the netw...</td>\n",
       "      <td>0</td>\n",
       "    </tr>\n",
       "    <tr>\n",
       "      <th>6938</th>\n",
       "      <td>how to create personal online radio station</td>\n",
       "      <td>i want to create my own radio station  that is...</td>\n",
       "      <td>2</td>\n",
       "    </tr>\n",
       "    <tr>\n",
       "      <th>131897</th>\n",
       "      <td>how to name my android software legally</td>\n",
       "      <td>im new to android programming and i found a pr...</td>\n",
       "      <td>2</td>\n",
       "    </tr>\n",
       "    <tr>\n",
       "      <th>10420</th>\n",
       "      <td>broke emacs    on lion</td>\n",
       "      <td>i just managed to break my beloved emacs on li...</td>\n",
       "      <td>2</td>\n",
       "    </tr>\n",
       "  </tbody>\n",
       "</table>\n",
       "</div>"
      ],
      "text/plain": [
       "                                                  Title  \\\n",
       "122715  how to serialize color property as argb values    \n",
       "29350                       sending large files in java   \n",
       "6938       how to create personal online radio station    \n",
       "131897         how to name my android software legally    \n",
       "10420                     broke emacs    on lion          \n",
       "\n",
       "                                             BodyMarkdown  OpenStatus  \n",
       "122715  i m working with windows forms designer  it se...           3  \n",
       "29350   how to send large files      gb  over the netw...           0  \n",
       "6938    i want to create my own radio station  that is...           2  \n",
       "131897  im new to android programming and i found a pr...           2  \n",
       "10420   i just managed to break my beloved emacs on li...           2  "
      ]
     },
     "execution_count": 21,
     "metadata": {},
     "output_type": "execute_result"
    }
   ],
   "source": [
    "data.head()"
   ]
  },
  {
   "cell_type": "code",
   "execution_count": 22,
   "id": "a9f7b9f5",
   "metadata": {},
   "outputs": [],
   "source": [
    "target = data['OpenStatus']\n",
    "data = data.drop(['OpenStatus'], axis=1)"
   ]
  },
  {
   "cell_type": "code",
   "execution_count": 23,
   "id": "927fb3c4",
   "metadata": {},
   "outputs": [
    {
     "data": {
      "text/html": [
       "<div>\n",
       "<style scoped>\n",
       "    .dataframe tbody tr th:only-of-type {\n",
       "        vertical-align: middle;\n",
       "    }\n",
       "\n",
       "    .dataframe tbody tr th {\n",
       "        vertical-align: top;\n",
       "    }\n",
       "\n",
       "    .dataframe thead th {\n",
       "        text-align: right;\n",
       "    }\n",
       "</style>\n",
       "<table border=\"1\" class=\"dataframe\">\n",
       "  <thead>\n",
       "    <tr style=\"text-align: right;\">\n",
       "      <th></th>\n",
       "      <th>Title</th>\n",
       "      <th>BodyMarkdown</th>\n",
       "    </tr>\n",
       "  </thead>\n",
       "  <tbody>\n",
       "    <tr>\n",
       "      <th>122715</th>\n",
       "      <td>how to serialize color property as argb values</td>\n",
       "      <td>i m working with windows forms designer  it se...</td>\n",
       "    </tr>\n",
       "    <tr>\n",
       "      <th>29350</th>\n",
       "      <td>sending large files in java</td>\n",
       "      <td>how to send large files      gb  over the netw...</td>\n",
       "    </tr>\n",
       "    <tr>\n",
       "      <th>6938</th>\n",
       "      <td>how to create personal online radio station</td>\n",
       "      <td>i want to create my own radio station  that is...</td>\n",
       "    </tr>\n",
       "    <tr>\n",
       "      <th>131897</th>\n",
       "      <td>how to name my android software legally</td>\n",
       "      <td>im new to android programming and i found a pr...</td>\n",
       "    </tr>\n",
       "    <tr>\n",
       "      <th>10420</th>\n",
       "      <td>broke emacs    on lion</td>\n",
       "      <td>i just managed to break my beloved emacs on li...</td>\n",
       "    </tr>\n",
       "  </tbody>\n",
       "</table>\n",
       "</div>"
      ],
      "text/plain": [
       "                                                  Title  \\\n",
       "122715  how to serialize color property as argb values    \n",
       "29350                       sending large files in java   \n",
       "6938       how to create personal online radio station    \n",
       "131897         how to name my android software legally    \n",
       "10420                     broke emacs    on lion          \n",
       "\n",
       "                                             BodyMarkdown  \n",
       "122715  i m working with windows forms designer  it se...  \n",
       "29350   how to send large files      gb  over the netw...  \n",
       "6938    i want to create my own radio station  that is...  \n",
       "131897  im new to android programming and i found a pr...  \n",
       "10420   i just managed to break my beloved emacs on li...  "
      ]
     },
     "execution_count": 23,
     "metadata": {},
     "output_type": "execute_result"
    }
   ],
   "source": [
    "data.head()"
   ]
  },
  {
   "cell_type": "markdown",
   "id": "f8d44ee1",
   "metadata": {},
   "source": [
    "# Step-4:Generate train and test"
   ]
  },
  {
   "cell_type": "code",
   "execution_count": 24,
   "id": "b97fdbaf",
   "metadata": {},
   "outputs": [],
   "source": [
    "data = data['Title'] + ' '+ data['BodyMarkdown']"
   ]
  },
  {
   "cell_type": "code",
   "execution_count": 25,
   "id": "6d23ec37",
   "metadata": {},
   "outputs": [],
   "source": [
    "from sklearn.model_selection import train_test_split"
   ]
  },
  {
   "cell_type": "markdown",
   "id": "b83e98f9",
   "metadata": {},
   "source": [
    "### x_train, y_train"
   ]
  },
  {
   "cell_type": "code",
   "execution_count": 26,
   "id": "0a71461c",
   "metadata": {},
   "outputs": [],
   "source": [
    "\n",
    "xtrain, xtest, ytrain, ytest = train_test_split(data, target, test_size = 0.3, random_state = 42)\n",
    "data = []"
   ]
  },
  {
   "cell_type": "code",
   "execution_count": 27,
   "id": "049a3ff1",
   "metadata": {},
   "outputs": [
    {
     "data": {
      "text/plain": [
       "(56000,)"
      ]
     },
     "execution_count": 27,
     "metadata": {},
     "output_type": "execute_result"
    }
   ],
   "source": [
    "xtrain.shape"
   ]
  },
  {
   "cell_type": "markdown",
   "id": "37aea648",
   "metadata": {},
   "source": [
    "### Let's convert words to numbers using TF-IDF "
   ]
  },
  {
   "cell_type": "code",
   "execution_count": 28,
   "id": "9ec850a1",
   "metadata": {},
   "outputs": [],
   "source": [
    "vectorizer = TfidfVectorizer(max_features = 1000)  # it contains only 10k features (fixed!)\n",
    "\n",
    "xtrain = vectorizer.fit_transform(xtrain).toarray()  # converting words to numbers for train data \n",
    "xtest = vectorizer.transform(xtest).toarray()        # converting words to numbers for test data "
   ]
  },
  {
   "cell_type": "code",
   "execution_count": 29,
   "id": "71b384a3",
   "metadata": {},
   "outputs": [
    {
     "data": {
      "text/plain": [
       "(56000, 1000)"
      ]
     },
     "execution_count": 29,
     "metadata": {},
     "output_type": "execute_result"
    }
   ],
   "source": [
    "xtrain.shape"
   ]
  },
  {
   "cell_type": "code",
   "execution_count": 30,
   "id": "8d92abe5",
   "metadata": {},
   "outputs": [
    {
     "data": {
      "text/plain": [
       "{0, 1, 2, 3, 4}"
      ]
     },
     "execution_count": 30,
     "metadata": {},
     "output_type": "execute_result"
    }
   ],
   "source": [
    "set(ytrain)"
   ]
  },
  {
   "cell_type": "code",
   "execution_count": 31,
   "id": "c1798c98",
   "metadata": {},
   "outputs": [],
   "source": [
    "import pickle\n",
    "pickle.dump(vectorizer, open(\"vectorizer.pickle\", \"wb\"))"
   ]
  },
  {
   "cell_type": "markdown",
   "id": "baa164b7",
   "metadata": {},
   "source": [
    "# Step-5:Training Model"
   ]
  },
  {
   "cell_type": "markdown",
   "id": "f5be81ca",
   "metadata": {},
   "source": [
    "## A)Naive Bayes "
   ]
  },
  {
   "cell_type": "code",
   "execution_count": 32,
   "id": "849875b1",
   "metadata": {},
   "outputs": [],
   "source": [
    "from sklearn.naive_bayes import GaussianNB\n",
    "clf = GaussianNB()"
   ]
  },
  {
   "cell_type": "code",
   "execution_count": 33,
   "id": "17857229",
   "metadata": {},
   "outputs": [
    {
     "data": {
      "text/html": [
       "<style>#sk-container-id-1 {color: black;background-color: white;}#sk-container-id-1 pre{padding: 0;}#sk-container-id-1 div.sk-toggleable {background-color: white;}#sk-container-id-1 label.sk-toggleable__label {cursor: pointer;display: block;width: 100%;margin-bottom: 0;padding: 0.3em;box-sizing: border-box;text-align: center;}#sk-container-id-1 label.sk-toggleable__label-arrow:before {content: \"▸\";float: left;margin-right: 0.25em;color: #696969;}#sk-container-id-1 label.sk-toggleable__label-arrow:hover:before {color: black;}#sk-container-id-1 div.sk-estimator:hover label.sk-toggleable__label-arrow:before {color: black;}#sk-container-id-1 div.sk-toggleable__content {max-height: 0;max-width: 0;overflow: hidden;text-align: left;background-color: #f0f8ff;}#sk-container-id-1 div.sk-toggleable__content pre {margin: 0.2em;color: black;border-radius: 0.25em;background-color: #f0f8ff;}#sk-container-id-1 input.sk-toggleable__control:checked~div.sk-toggleable__content {max-height: 200px;max-width: 100%;overflow: auto;}#sk-container-id-1 input.sk-toggleable__control:checked~label.sk-toggleable__label-arrow:before {content: \"▾\";}#sk-container-id-1 div.sk-estimator input.sk-toggleable__control:checked~label.sk-toggleable__label {background-color: #d4ebff;}#sk-container-id-1 div.sk-label input.sk-toggleable__control:checked~label.sk-toggleable__label {background-color: #d4ebff;}#sk-container-id-1 input.sk-hidden--visually {border: 0;clip: rect(1px 1px 1px 1px);clip: rect(1px, 1px, 1px, 1px);height: 1px;margin: -1px;overflow: hidden;padding: 0;position: absolute;width: 1px;}#sk-container-id-1 div.sk-estimator {font-family: monospace;background-color: #f0f8ff;border: 1px dotted black;border-radius: 0.25em;box-sizing: border-box;margin-bottom: 0.5em;}#sk-container-id-1 div.sk-estimator:hover {background-color: #d4ebff;}#sk-container-id-1 div.sk-parallel-item::after {content: \"\";width: 100%;border-bottom: 1px solid gray;flex-grow: 1;}#sk-container-id-1 div.sk-label:hover label.sk-toggleable__label {background-color: #d4ebff;}#sk-container-id-1 div.sk-serial::before {content: \"\";position: absolute;border-left: 1px solid gray;box-sizing: border-box;top: 0;bottom: 0;left: 50%;z-index: 0;}#sk-container-id-1 div.sk-serial {display: flex;flex-direction: column;align-items: center;background-color: white;padding-right: 0.2em;padding-left: 0.2em;position: relative;}#sk-container-id-1 div.sk-item {position: relative;z-index: 1;}#sk-container-id-1 div.sk-parallel {display: flex;align-items: stretch;justify-content: center;background-color: white;position: relative;}#sk-container-id-1 div.sk-item::before, #sk-container-id-1 div.sk-parallel-item::before {content: \"\";position: absolute;border-left: 1px solid gray;box-sizing: border-box;top: 0;bottom: 0;left: 50%;z-index: -1;}#sk-container-id-1 div.sk-parallel-item {display: flex;flex-direction: column;z-index: 1;position: relative;background-color: white;}#sk-container-id-1 div.sk-parallel-item:first-child::after {align-self: flex-end;width: 50%;}#sk-container-id-1 div.sk-parallel-item:last-child::after {align-self: flex-start;width: 50%;}#sk-container-id-1 div.sk-parallel-item:only-child::after {width: 0;}#sk-container-id-1 div.sk-dashed-wrapped {border: 1px dashed gray;margin: 0 0.4em 0.5em 0.4em;box-sizing: border-box;padding-bottom: 0.4em;background-color: white;}#sk-container-id-1 div.sk-label label {font-family: monospace;font-weight: bold;display: inline-block;line-height: 1.2em;}#sk-container-id-1 div.sk-label-container {text-align: center;}#sk-container-id-1 div.sk-container {/* jupyter's `normalize.less` sets `[hidden] { display: none; }` but bootstrap.min.css set `[hidden] { display: none !important; }` so we also need the `!important` here to be able to override the default hidden behavior on the sphinx rendered scikit-learn.org. See: https://github.com/scikit-learn/scikit-learn/issues/21755 */display: inline-block !important;position: relative;}#sk-container-id-1 div.sk-text-repr-fallback {display: none;}</style><div id=\"sk-container-id-1\" class=\"sk-top-container\"><div class=\"sk-text-repr-fallback\"><pre>GaussianNB()</pre><b>In a Jupyter environment, please rerun this cell to show the HTML representation or trust the notebook. <br />On GitHub, the HTML representation is unable to render, please try loading this page with nbviewer.org.</b></div><div class=\"sk-container\" hidden><div class=\"sk-item\"><div class=\"sk-estimator sk-toggleable\"><input class=\"sk-toggleable__control sk-hidden--visually\" id=\"sk-estimator-id-1\" type=\"checkbox\" checked><label for=\"sk-estimator-id-1\" class=\"sk-toggleable__label sk-toggleable__label-arrow\">GaussianNB</label><div class=\"sk-toggleable__content\"><pre>GaussianNB()</pre></div></div></div></div></div>"
      ],
      "text/plain": [
       "GaussianNB()"
      ]
     },
     "execution_count": 33,
     "metadata": {},
     "output_type": "execute_result"
    }
   ],
   "source": [
    "clf.fit(xtrain, ytrain)\n"
   ]
  },
  {
   "cell_type": "markdown",
   "id": "0dd148eb",
   "metadata": {},
   "source": [
    "### Predict"
   ]
  },
  {
   "cell_type": "code",
   "execution_count": 34,
   "id": "49a2d9db",
   "metadata": {},
   "outputs": [],
   "source": [
    "predicted_naive = clf.predict(xtest)"
   ]
  },
  {
   "cell_type": "markdown",
   "id": "3e943d75",
   "metadata": {},
   "source": [
    "### Metrics"
   ]
  },
  {
   "cell_type": "code",
   "execution_count": 35,
   "id": "43b60246",
   "metadata": {},
   "outputs": [
    {
     "name": "stdout",
     "output_type": "stream",
     "text": [
      "Accuracy Score \n",
      " 0.369375\n",
      "Confusion Matrix \n",
      " [[ 967  133  120 1309  110]\n",
      " [1289 1855  821 1616  109]\n",
      " [1347  478 1797 2590  226]\n",
      " [ 658  107  157 3844  209]\n",
      " [ 967  104  143 2642  402]]\n",
      "Classification Report \n",
      "               precision    recall  f1-score   support\n",
      "\n",
      "           0       0.18      0.37      0.25      2639\n",
      "           1       0.69      0.33      0.44      5690\n",
      "           2       0.59      0.28      0.38      6438\n",
      "           3       0.32      0.77      0.45      4975\n",
      "           4       0.38      0.09      0.15      4258\n",
      "\n",
      "    accuracy                           0.37     24000\n",
      "   macro avg       0.43      0.37      0.33     24000\n",
      "weighted avg       0.48      0.37      0.35     24000\n",
      "\n"
     ]
    }
   ],
   "source": [
    "from sklearn.metrics import accuracy_score, classification_report, confusion_matrix \n",
    "\n",
    "print('Accuracy Score \\n',accuracy_score(predicted_naive, ytest))\n",
    "print('Confusion Matrix \\n', confusion_matrix(predicted_naive, ytest))\n",
    "print('Classification Report \\n', classification_report(predicted_naive, ytest))"
   ]
  },
  {
   "cell_type": "markdown",
   "id": "56338817",
   "metadata": {},
   "source": [
    "# Accuracy Score:36.9%"
   ]
  },
  {
   "cell_type": "markdown",
   "id": "7370b364",
   "metadata": {},
   "source": [
    "### Saving the model"
   ]
  },
  {
   "cell_type": "code",
   "execution_count": 36,
   "id": "639d39f1",
   "metadata": {},
   "outputs": [],
   "source": [
    "import pickle\n",
    "filename = 'g_naive.sav'\n",
    "pickle.dump(clf, open(filename, 'wb'))"
   ]
  },
  {
   "cell_type": "markdown",
   "id": "1366f4a8",
   "metadata": {},
   "source": [
    "### Load the model from disk"
   ]
  },
  {
   "cell_type": "code",
   "execution_count": 37,
   "id": "f84759ec",
   "metadata": {},
   "outputs": [],
   "source": [
    "\n",
    "loaded_model = pickle.load(open(filename, 'rb'))\n",
    "naive = loaded_model.predict(xtest)"
   ]
  },
  {
   "cell_type": "markdown",
   "id": "9e1b3879",
   "metadata": {},
   "source": [
    "## B)MLPClassifier"
   ]
  },
  {
   "cell_type": "code",
   "execution_count": 38,
   "id": "31712782",
   "metadata": {},
   "outputs": [
    {
     "name": "stdout",
     "output_type": "stream",
     "text": [
      "Iteration 1, loss = 1.12605801\n",
      "Validation score: 0.625179\n",
      "Iteration 2, loss = 0.95931869\n",
      "Validation score: 0.629464\n",
      "Iteration 3, loss = 0.93611904\n",
      "Validation score: 0.632500\n",
      "Iteration 4, loss = 0.92413648\n",
      "Validation score: 0.629464\n",
      "Iteration 5, loss = 0.91371776\n",
      "Validation score: 0.629821\n",
      "Iteration 6, loss = 0.90329094\n",
      "Validation score: 0.631607\n",
      "Iteration 7, loss = 0.89224038\n",
      "Validation score: 0.634286\n",
      "Iteration 8, loss = 0.88095649\n",
      "Validation score: 0.629821\n",
      "Iteration 9, loss = 0.86942608\n",
      "Validation score: 0.633036\n",
      "Iteration 10, loss = 0.85770150\n",
      "Validation score: 0.631429\n",
      "Iteration 11, loss = 0.84530667\n",
      "Validation score: 0.632500\n",
      "Iteration 12, loss = 0.83303977\n",
      "Validation score: 0.633929\n",
      "Iteration 13, loss = 0.82093376\n",
      "Validation score: 0.636250\n",
      "Iteration 14, loss = 0.80820280\n",
      "Validation score: 0.625714\n",
      "Iteration 15, loss = 0.79590109\n",
      "Validation score: 0.631607\n",
      "Iteration 16, loss = 0.78283875\n",
      "Validation score: 0.626786\n",
      "Iteration 17, loss = 0.77017199\n",
      "Validation score: 0.623214\n",
      "Iteration 18, loss = 0.75701472\n",
      "Validation score: 0.629286\n",
      "Iteration 19, loss = 0.74365004\n",
      "Validation score: 0.625000\n",
      "Iteration 20, loss = 0.72927995\n",
      "Validation score: 0.629464\n",
      "Iteration 21, loss = 0.71540122\n",
      "Validation score: 0.624286\n",
      "Iteration 22, loss = 0.70140356\n",
      "Validation score: 0.626607\n",
      "Iteration 23, loss = 0.68695944\n",
      "Validation score: 0.623929\n",
      "Iteration 24, loss = 0.67155138\n",
      "Validation score: 0.622679\n",
      "Validation score did not improve more than tol=0.000100 for 10 consecutive epochs. Stopping.\n"
     ]
    },
    {
     "data": {
      "text/html": [
       "<style>#sk-container-id-2 {color: black;background-color: white;}#sk-container-id-2 pre{padding: 0;}#sk-container-id-2 div.sk-toggleable {background-color: white;}#sk-container-id-2 label.sk-toggleable__label {cursor: pointer;display: block;width: 100%;margin-bottom: 0;padding: 0.3em;box-sizing: border-box;text-align: center;}#sk-container-id-2 label.sk-toggleable__label-arrow:before {content: \"▸\";float: left;margin-right: 0.25em;color: #696969;}#sk-container-id-2 label.sk-toggleable__label-arrow:hover:before {color: black;}#sk-container-id-2 div.sk-estimator:hover label.sk-toggleable__label-arrow:before {color: black;}#sk-container-id-2 div.sk-toggleable__content {max-height: 0;max-width: 0;overflow: hidden;text-align: left;background-color: #f0f8ff;}#sk-container-id-2 div.sk-toggleable__content pre {margin: 0.2em;color: black;border-radius: 0.25em;background-color: #f0f8ff;}#sk-container-id-2 input.sk-toggleable__control:checked~div.sk-toggleable__content {max-height: 200px;max-width: 100%;overflow: auto;}#sk-container-id-2 input.sk-toggleable__control:checked~label.sk-toggleable__label-arrow:before {content: \"▾\";}#sk-container-id-2 div.sk-estimator input.sk-toggleable__control:checked~label.sk-toggleable__label {background-color: #d4ebff;}#sk-container-id-2 div.sk-label input.sk-toggleable__control:checked~label.sk-toggleable__label {background-color: #d4ebff;}#sk-container-id-2 input.sk-hidden--visually {border: 0;clip: rect(1px 1px 1px 1px);clip: rect(1px, 1px, 1px, 1px);height: 1px;margin: -1px;overflow: hidden;padding: 0;position: absolute;width: 1px;}#sk-container-id-2 div.sk-estimator {font-family: monospace;background-color: #f0f8ff;border: 1px dotted black;border-radius: 0.25em;box-sizing: border-box;margin-bottom: 0.5em;}#sk-container-id-2 div.sk-estimator:hover {background-color: #d4ebff;}#sk-container-id-2 div.sk-parallel-item::after {content: \"\";width: 100%;border-bottom: 1px solid gray;flex-grow: 1;}#sk-container-id-2 div.sk-label:hover label.sk-toggleable__label {background-color: #d4ebff;}#sk-container-id-2 div.sk-serial::before {content: \"\";position: absolute;border-left: 1px solid gray;box-sizing: border-box;top: 0;bottom: 0;left: 50%;z-index: 0;}#sk-container-id-2 div.sk-serial {display: flex;flex-direction: column;align-items: center;background-color: white;padding-right: 0.2em;padding-left: 0.2em;position: relative;}#sk-container-id-2 div.sk-item {position: relative;z-index: 1;}#sk-container-id-2 div.sk-parallel {display: flex;align-items: stretch;justify-content: center;background-color: white;position: relative;}#sk-container-id-2 div.sk-item::before, #sk-container-id-2 div.sk-parallel-item::before {content: \"\";position: absolute;border-left: 1px solid gray;box-sizing: border-box;top: 0;bottom: 0;left: 50%;z-index: -1;}#sk-container-id-2 div.sk-parallel-item {display: flex;flex-direction: column;z-index: 1;position: relative;background-color: white;}#sk-container-id-2 div.sk-parallel-item:first-child::after {align-self: flex-end;width: 50%;}#sk-container-id-2 div.sk-parallel-item:last-child::after {align-self: flex-start;width: 50%;}#sk-container-id-2 div.sk-parallel-item:only-child::after {width: 0;}#sk-container-id-2 div.sk-dashed-wrapped {border: 1px dashed gray;margin: 0 0.4em 0.5em 0.4em;box-sizing: border-box;padding-bottom: 0.4em;background-color: white;}#sk-container-id-2 div.sk-label label {font-family: monospace;font-weight: bold;display: inline-block;line-height: 1.2em;}#sk-container-id-2 div.sk-label-container {text-align: center;}#sk-container-id-2 div.sk-container {/* jupyter's `normalize.less` sets `[hidden] { display: none; }` but bootstrap.min.css set `[hidden] { display: none !important; }` so we also need the `!important` here to be able to override the default hidden behavior on the sphinx rendered scikit-learn.org. See: https://github.com/scikit-learn/scikit-learn/issues/21755 */display: inline-block !important;position: relative;}#sk-container-id-2 div.sk-text-repr-fallback {display: none;}</style><div id=\"sk-container-id-2\" class=\"sk-top-container\"><div class=\"sk-text-repr-fallback\"><pre>MLPClassifier(early_stopping=True, verbose=2)</pre><b>In a Jupyter environment, please rerun this cell to show the HTML representation or trust the notebook. <br />On GitHub, the HTML representation is unable to render, please try loading this page with nbviewer.org.</b></div><div class=\"sk-container\" hidden><div class=\"sk-item\"><div class=\"sk-estimator sk-toggleable\"><input class=\"sk-toggleable__control sk-hidden--visually\" id=\"sk-estimator-id-2\" type=\"checkbox\" checked><label for=\"sk-estimator-id-2\" class=\"sk-toggleable__label sk-toggleable__label-arrow\">MLPClassifier</label><div class=\"sk-toggleable__content\"><pre>MLPClassifier(early_stopping=True, verbose=2)</pre></div></div></div></div></div>"
      ],
      "text/plain": [
       "MLPClassifier(early_stopping=True, verbose=2)"
      ]
     },
     "execution_count": 38,
     "metadata": {},
     "output_type": "execute_result"
    }
   ],
   "source": [
    "from sklearn.neural_network import MLPClassifier\n",
    "\n",
    "mlp_cv=MLPClassifier(early_stopping=True, verbose=2)\n",
    "mlp_cv.fit(xtrain, ytrain)"
   ]
  },
  {
   "cell_type": "markdown",
   "id": "8cf590e9",
   "metadata": {},
   "source": [
    "### Predict"
   ]
  },
  {
   "cell_type": "code",
   "execution_count": 39,
   "id": "bbafbc73",
   "metadata": {},
   "outputs": [],
   "source": [
    "predicted_mlp = mlp_cv.predict(xtest)"
   ]
  },
  {
   "cell_type": "markdown",
   "id": "4192d3cc",
   "metadata": {},
   "source": [
    "### Metrics"
   ]
  },
  {
   "cell_type": "code",
   "execution_count": 40,
   "id": "0099855b",
   "metadata": {},
   "outputs": [],
   "source": [
    "from sklearn.metrics import accuracy_score, classification_report, confusion_matrix \n",
    "\n",
    "def metrics(predicted): \n",
    "    predicted_naive = predicted \n",
    "    print('Accuracy Score \\n',accuracy_score(predicted_naive, ytest))\n",
    "    print('Confusion Matrix \\n', confusion_matrix(predicted_naive, ytest))\n",
    "    print('Classification Report \\n', classification_report(predicted_naive, ytest))"
   ]
  },
  {
   "cell_type": "code",
   "execution_count": 41,
   "id": "d56d509e",
   "metadata": {},
   "outputs": [
    {
     "name": "stdout",
     "output_type": "stream",
     "text": [
      "Accuracy Score \n",
      " 0.6255\n",
      "Confusion Matrix \n",
      " [[ 2098   302   326  1001   180]\n",
      " [  368  1474   394   380    29]\n",
      " [  358   341  1365   552    66]\n",
      " [ 2362   556   948 10039   745]\n",
      " [   42     4     5    29    36]]\n",
      "Classification Report \n",
      "               precision    recall  f1-score   support\n",
      "\n",
      "           0       0.40      0.54      0.46      3907\n",
      "           1       0.55      0.56      0.55      2645\n",
      "           2       0.45      0.51      0.48      2682\n",
      "           3       0.84      0.69      0.75     14650\n",
      "           4       0.03      0.31      0.06       116\n",
      "\n",
      "    accuracy                           0.63     24000\n",
      "   macro avg       0.45      0.52      0.46     24000\n",
      "weighted avg       0.69      0.63      0.65     24000\n",
      "\n"
     ]
    }
   ],
   "source": [
    "metrics(predicted_mlp)"
   ]
  },
  {
   "cell_type": "markdown",
   "id": "dd227844",
   "metadata": {},
   "source": [
    "# Accuracy Score : 62.5%"
   ]
  },
  {
   "cell_type": "markdown",
   "id": "f58429c6",
   "metadata": {},
   "source": [
    "### Saving the model"
   ]
  },
  {
   "cell_type": "code",
   "execution_count": 42,
   "id": "a5a0dd71",
   "metadata": {},
   "outputs": [],
   "source": [
    "import pickle\n",
    "filename = 'mlp.sav'\n",
    "pickle.dump(mlp_cv, open(filename, 'wb'))"
   ]
  },
  {
   "cell_type": "markdown",
   "id": "66277949",
   "metadata": {},
   "source": [
    "### Load the model from disk"
   ]
  },
  {
   "cell_type": "code",
   "execution_count": 43,
   "id": "1664fce4",
   "metadata": {},
   "outputs": [],
   "source": [
    "loaded_model = pickle.load(open(filename, 'rb'))\n",
    "predicted_mlp2 = loaded_model.predict(xtest)\n"
   ]
  },
  {
   "cell_type": "markdown",
   "id": "fbadac2c",
   "metadata": {},
   "source": [
    "## C)RandomForest"
   ]
  },
  {
   "cell_type": "code",
   "execution_count": 44,
   "id": "1d3d38ba",
   "metadata": {},
   "outputs": [],
   "source": [
    "from sklearn.ensemble import RandomForestClassifier"
   ]
  },
  {
   "cell_type": "markdown",
   "id": "09c23a4d",
   "metadata": {},
   "source": [
    "### Train Random Forest model"
   ]
  },
  {
   "cell_type": "code",
   "execution_count": 45,
   "id": "eafb640b",
   "metadata": {},
   "outputs": [
    {
     "data": {
      "text/html": [
       "<style>#sk-container-id-3 {color: black;background-color: white;}#sk-container-id-3 pre{padding: 0;}#sk-container-id-3 div.sk-toggleable {background-color: white;}#sk-container-id-3 label.sk-toggleable__label {cursor: pointer;display: block;width: 100%;margin-bottom: 0;padding: 0.3em;box-sizing: border-box;text-align: center;}#sk-container-id-3 label.sk-toggleable__label-arrow:before {content: \"▸\";float: left;margin-right: 0.25em;color: #696969;}#sk-container-id-3 label.sk-toggleable__label-arrow:hover:before {color: black;}#sk-container-id-3 div.sk-estimator:hover label.sk-toggleable__label-arrow:before {color: black;}#sk-container-id-3 div.sk-toggleable__content {max-height: 0;max-width: 0;overflow: hidden;text-align: left;background-color: #f0f8ff;}#sk-container-id-3 div.sk-toggleable__content pre {margin: 0.2em;color: black;border-radius: 0.25em;background-color: #f0f8ff;}#sk-container-id-3 input.sk-toggleable__control:checked~div.sk-toggleable__content {max-height: 200px;max-width: 100%;overflow: auto;}#sk-container-id-3 input.sk-toggleable__control:checked~label.sk-toggleable__label-arrow:before {content: \"▾\";}#sk-container-id-3 div.sk-estimator input.sk-toggleable__control:checked~label.sk-toggleable__label {background-color: #d4ebff;}#sk-container-id-3 div.sk-label input.sk-toggleable__control:checked~label.sk-toggleable__label {background-color: #d4ebff;}#sk-container-id-3 input.sk-hidden--visually {border: 0;clip: rect(1px 1px 1px 1px);clip: rect(1px, 1px, 1px, 1px);height: 1px;margin: -1px;overflow: hidden;padding: 0;position: absolute;width: 1px;}#sk-container-id-3 div.sk-estimator {font-family: monospace;background-color: #f0f8ff;border: 1px dotted black;border-radius: 0.25em;box-sizing: border-box;margin-bottom: 0.5em;}#sk-container-id-3 div.sk-estimator:hover {background-color: #d4ebff;}#sk-container-id-3 div.sk-parallel-item::after {content: \"\";width: 100%;border-bottom: 1px solid gray;flex-grow: 1;}#sk-container-id-3 div.sk-label:hover label.sk-toggleable__label {background-color: #d4ebff;}#sk-container-id-3 div.sk-serial::before {content: \"\";position: absolute;border-left: 1px solid gray;box-sizing: border-box;top: 0;bottom: 0;left: 50%;z-index: 0;}#sk-container-id-3 div.sk-serial {display: flex;flex-direction: column;align-items: center;background-color: white;padding-right: 0.2em;padding-left: 0.2em;position: relative;}#sk-container-id-3 div.sk-item {position: relative;z-index: 1;}#sk-container-id-3 div.sk-parallel {display: flex;align-items: stretch;justify-content: center;background-color: white;position: relative;}#sk-container-id-3 div.sk-item::before, #sk-container-id-3 div.sk-parallel-item::before {content: \"\";position: absolute;border-left: 1px solid gray;box-sizing: border-box;top: 0;bottom: 0;left: 50%;z-index: -1;}#sk-container-id-3 div.sk-parallel-item {display: flex;flex-direction: column;z-index: 1;position: relative;background-color: white;}#sk-container-id-3 div.sk-parallel-item:first-child::after {align-self: flex-end;width: 50%;}#sk-container-id-3 div.sk-parallel-item:last-child::after {align-self: flex-start;width: 50%;}#sk-container-id-3 div.sk-parallel-item:only-child::after {width: 0;}#sk-container-id-3 div.sk-dashed-wrapped {border: 1px dashed gray;margin: 0 0.4em 0.5em 0.4em;box-sizing: border-box;padding-bottom: 0.4em;background-color: white;}#sk-container-id-3 div.sk-label label {font-family: monospace;font-weight: bold;display: inline-block;line-height: 1.2em;}#sk-container-id-3 div.sk-label-container {text-align: center;}#sk-container-id-3 div.sk-container {/* jupyter's `normalize.less` sets `[hidden] { display: none; }` but bootstrap.min.css set `[hidden] { display: none !important; }` so we also need the `!important` here to be able to override the default hidden behavior on the sphinx rendered scikit-learn.org. See: https://github.com/scikit-learn/scikit-learn/issues/21755 */display: inline-block !important;position: relative;}#sk-container-id-3 div.sk-text-repr-fallback {display: none;}</style><div id=\"sk-container-id-3\" class=\"sk-top-container\"><div class=\"sk-text-repr-fallback\"><pre>RandomForestClassifier(random_state=42)</pre><b>In a Jupyter environment, please rerun this cell to show the HTML representation or trust the notebook. <br />On GitHub, the HTML representation is unable to render, please try loading this page with nbviewer.org.</b></div><div class=\"sk-container\" hidden><div class=\"sk-item\"><div class=\"sk-estimator sk-toggleable\"><input class=\"sk-toggleable__control sk-hidden--visually\" id=\"sk-estimator-id-3\" type=\"checkbox\" checked><label for=\"sk-estimator-id-3\" class=\"sk-toggleable__label sk-toggleable__label-arrow\">RandomForestClassifier</label><div class=\"sk-toggleable__content\"><pre>RandomForestClassifier(random_state=42)</pre></div></div></div></div></div>"
      ],
      "text/plain": [
       "RandomForestClassifier(random_state=42)"
      ]
     },
     "execution_count": 45,
     "metadata": {},
     "output_type": "execute_result"
    }
   ],
   "source": [
    "rf = RandomForestClassifier(n_estimators=100, random_state=42)\n",
    "rf.fit(xtrain, ytrain)\n"
   ]
  },
  {
   "cell_type": "markdown",
   "id": "d562cde8",
   "metadata": {},
   "source": [
    "### Predict"
   ]
  },
  {
   "cell_type": "code",
   "execution_count": 46,
   "id": "144e913e",
   "metadata": {},
   "outputs": [],
   "source": [
    "rf_pred = rf.predict(xtest)\n"
   ]
  },
  {
   "cell_type": "markdown",
   "id": "b5a3cd07",
   "metadata": {},
   "source": [
    "### Accuracy"
   ]
  },
  {
   "cell_type": "code",
   "execution_count": 47,
   "id": "97adb412",
   "metadata": {},
   "outputs": [],
   "source": [
    "rf_acc = accuracy_score(ytest, rf_pred)"
   ]
  },
  {
   "cell_type": "code",
   "execution_count": 48,
   "id": "4e12b0b8",
   "metadata": {},
   "outputs": [
    {
     "name": "stdout",
     "output_type": "stream",
     "text": [
      "Random Forest accuracy: 0.578\n"
     ]
    }
   ],
   "source": [
    "print('Random Forest accuracy:', rf_acc)"
   ]
  },
  {
   "cell_type": "markdown",
   "id": "ebf0e938",
   "metadata": {},
   "source": [
    "# Accuracy Score: 57.8%"
   ]
  },
  {
   "cell_type": "code",
   "execution_count": 49,
   "id": "bb900765",
   "metadata": {},
   "outputs": [],
   "source": [
    "import pickle\n",
    "filename = 'rf.sav'\n",
    "pickle.dump(rf, open(filename, 'wb'))"
   ]
  },
  {
   "cell_type": "code",
   "execution_count": 50,
   "id": "32df5e8f",
   "metadata": {},
   "outputs": [],
   "source": [
    "loaded_model = pickle.load(open(filename, 'rb'))\n",
    "RandomForest = loaded_model.predict(xtest)"
   ]
  },
  {
   "cell_type": "markdown",
   "id": "9f448ea4",
   "metadata": {},
   "source": [
    "## D)ANN"
   ]
  },
  {
   "cell_type": "code",
   "execution_count": 51,
   "id": "7ea88279",
   "metadata": {},
   "outputs": [],
   "source": [
    "ann = Sequential()\n"
   ]
  },
  {
   "cell_type": "code",
   "execution_count": 52,
   "id": "f5f70818",
   "metadata": {},
   "outputs": [],
   "source": [
    "ann.add(Input(shape=(xtrain.shape[1],)))\n",
    "# Add a hidden layer\n",
    "ann.add(Dense(1024, activation='relu'))\n",
    "ann.add(Dense(1024, activation='relu'))\n",
    "ann.add(Dense(512, activation='relu'))\n",
    "ann.add(Dense(512, activation='relu'))\n",
    "ann.add(Dense(256, activation='relu'))\n",
    "ann.add(Dense(128, activation='relu'))\n",
    "ann.add(Dense(64, activation='relu'))\n",
    "ann.add(Dense(32, activation='relu'))\n",
    "ann.add(Dense(16, activation='relu'))\n",
    "# Softmax normalizes it into a probability distribution consisting of\n",
    "# K probabilities proportional to the exponentials of the input\n",
    "# Add an output layer\n",
    "ann.add(Dense(5, activation='softmax'))\n"
   ]
  },
  {
   "cell_type": "code",
   "execution_count": 53,
   "id": "4fb0af61",
   "metadata": {},
   "outputs": [
    {
     "name": "stdout",
     "output_type": "stream",
     "text": [
      "Model: \"sequential\"\n",
      "_________________________________________________________________\n",
      " Layer (type)                Output Shape              Param #   \n",
      "=================================================================\n",
      " dense (Dense)               (None, 1024)              1025024   \n",
      "                                                                 \n",
      " dense_1 (Dense)             (None, 1024)              1049600   \n",
      "                                                                 \n",
      " dense_2 (Dense)             (None, 512)               524800    \n",
      "                                                                 \n",
      " dense_3 (Dense)             (None, 512)               262656    \n",
      "                                                                 \n",
      " dense_4 (Dense)             (None, 256)               131328    \n",
      "                                                                 \n",
      " dense_5 (Dense)             (None, 128)               32896     \n",
      "                                                                 \n",
      " dense_6 (Dense)             (None, 64)                8256      \n",
      "                                                                 \n",
      " dense_7 (Dense)             (None, 32)                2080      \n",
      "                                                                 \n",
      " dense_8 (Dense)             (None, 16)                528       \n",
      "                                                                 \n",
      " dense_9 (Dense)             (None, 5)                 85        \n",
      "                                                                 \n",
      "=================================================================\n",
      "Total params: 3,037,253\n",
      "Trainable params: 3,037,253\n",
      "Non-trainable params: 0\n",
      "_________________________________________________________________\n"
     ]
    }
   ],
   "source": [
    "ann.summary()\n"
   ]
  },
  {
   "cell_type": "code",
   "execution_count": 54,
   "id": "d7ba33b4",
   "metadata": {},
   "outputs": [],
   "source": [
    "ann.compile(optimizer='adam', loss='sparse_categorical_crossentropy', metrics=['accuracy'])\n",
    "\n"
   ]
  },
  {
   "cell_type": "code",
   "execution_count": 55,
   "id": "9119d75a",
   "metadata": {},
   "outputs": [],
   "source": [
    "early_stopping = EarlyStopping(patience=10, verbose=1)\n",
    "model_checkpoint = ModelCheckpoint(\"ann_model.h5\", save_best_only=True, verbose=1)\n",
    "\n"
   ]
  },
  {
   "cell_type": "code",
   "execution_count": 56,
   "id": "c86b9e91",
   "metadata": {},
   "outputs": [
    {
     "name": "stdout",
     "output_type": "stream",
     "text": [
      "Epoch 1/5\n",
      "1746/1750 [============================>.] - ETA: 0s - loss: 1.1069 - accuracy: 0.5777\n",
      "Epoch 1: val_loss improved from inf to 1.02774, saving model to ann_model.h5\n",
      "1750/1750 [==============================] - 21s 12ms/step - loss: 1.1066 - accuracy: 0.5779 - val_loss: 1.0277 - val_accuracy: 0.6028\n",
      "Epoch 2/5\n",
      "1750/1750 [==============================] - ETA: 0s - loss: 0.9710 - accuracy: 0.6386\n",
      "Epoch 2: val_loss improved from 1.02774 to 0.99496, saving model to ann_model.h5\n",
      "1750/1750 [==============================] - 19s 11ms/step - loss: 0.9710 - accuracy: 0.6386 - val_loss: 0.9950 - val_accuracy: 0.6257\n",
      "Epoch 3/5\n",
      "1749/1750 [============================>.] - ETA: 0s - loss: 0.8346 - accuracy: 0.6965\n",
      "Epoch 3: val_loss did not improve from 0.99496\n",
      "1750/1750 [==============================] - 21s 12ms/step - loss: 0.8346 - accuracy: 0.6964 - val_loss: 1.0274 - val_accuracy: 0.6218\n",
      "Epoch 4/5\n",
      "1746/1750 [============================>.] - ETA: 0s - loss: 0.5664 - accuracy: 0.8044\n",
      "Epoch 4: val_loss did not improve from 0.99496\n",
      "1750/1750 [==============================] - 21s 12ms/step - loss: 0.5666 - accuracy: 0.8043 - val_loss: 1.2110 - val_accuracy: 0.6019\n",
      "Epoch 5/5\n",
      "1748/1750 [============================>.] - ETA: 0s - loss: 0.3124 - accuracy: 0.8955\n",
      "Epoch 5: val_loss did not improve from 0.99496\n",
      "1750/1750 [==============================] - 20s 12ms/step - loss: 0.3124 - accuracy: 0.8956 - val_loss: 1.7846 - val_accuracy: 0.5910\n"
     ]
    },
    {
     "data": {
      "text/plain": [
       "<keras.callbacks.History at 0x1c92e8ba800>"
      ]
     },
     "execution_count": 56,
     "metadata": {},
     "output_type": "execute_result"
    }
   ],
   "source": [
    "ann.fit(xtrain, ytrain, epochs=5, batch_size=32, validation_data=(xtest, ytest), callbacks=[model_checkpoint])"
   ]
  },
  {
   "cell_type": "code",
   "execution_count": 57,
   "id": "f711c344",
   "metadata": {},
   "outputs": [],
   "source": [
    "ann.save_weights('stackoverflow_weights.h5')"
   ]
  },
  {
   "cell_type": "code",
   "execution_count": 58,
   "id": "9c4bc1aa",
   "metadata": {},
   "outputs": [
    {
     "name": "stdout",
     "output_type": "stream",
     "text": [
      "accuracy ANN 59.10000205039978\n"
     ]
    }
   ],
   "source": [
    "score = ann.evaluate(xtest, ytest, verbose=0)\n",
    "print(\"accuracy ANN\", score[1] * 100)"
   ]
  },
  {
   "cell_type": "markdown",
   "id": "e191b12c",
   "metadata": {},
   "source": [
    "# Accuracy Score: 59.1%"
   ]
  },
  {
   "cell_type": "markdown",
   "id": "83e250af",
   "metadata": {},
   "source": [
    "### E)CNN"
   ]
  },
  {
   "cell_type": "markdown",
   "id": "11637573",
   "metadata": {},
   "source": [
    "### Import necessary libraries:"
   ]
  },
  {
   "cell_type": "code",
   "execution_count": 59,
   "id": "f5c088b7",
   "metadata": {},
   "outputs": [],
   "source": [
    "\n",
    "import numpy as np\n",
    "import pandas as pd\n",
    "from keras.preprocessing.text import Tokenizer\n",
    "from keras.preprocessing.sequence import pad_sequences\n",
    "from keras.models import Sequential\n",
    "from keras.layers import Embedding, Conv1D, GlobalMaxPooling1D, Dense\n",
    "from sklearn.model_selection import train_test_split\n",
    "from tensorflow.keras.preprocessing.sequence import pad_sequences\n",
    "from sklearn.preprocessing import LabelEncoder"
   ]
  },
  {
   "cell_type": "markdown",
   "id": "a0b51fab",
   "metadata": {},
   "source": [
    "### Load the data:"
   ]
  },
  {
   "cell_type": "code",
   "execution_count": 60,
   "id": "a8d3ab6b",
   "metadata": {},
   "outputs": [],
   "source": [
    "data = pd.read_csv(\"C:\\\\Users\\\\Snigdha\\\\New folder\\\\Studies\\\\PROJECTS\\\\Predict closed questions on Stack Overflow\\\\train-sample.csv\")"
   ]
  },
  {
   "cell_type": "code",
   "execution_count": 61,
   "id": "f78fbc37",
   "metadata": {},
   "outputs": [],
   "source": [
    "text_data = data['BodyMarkdown'].values"
   ]
  },
  {
   "cell_type": "code",
   "execution_count": 62,
   "id": "4e86507c",
   "metadata": {},
   "outputs": [],
   "source": [
    "labels = data['OpenStatus'].values"
   ]
  },
  {
   "cell_type": "markdown",
   "id": "cc2fe06e",
   "metadata": {},
   "source": [
    "### Convert non-binary labels to binary labels"
   ]
  },
  {
   "cell_type": "code",
   "execution_count": 63,
   "id": "b6df9382",
   "metadata": {},
   "outputs": [],
   "source": [
    "encoder = LabelEncoder()\n",
    "binary_labels = encoder.fit_transform(labels)"
   ]
  },
  {
   "cell_type": "markdown",
   "id": "038a4f5b",
   "metadata": {},
   "source": [
    "### Split data into training and testing sets"
   ]
  },
  {
   "cell_type": "code",
   "execution_count": 64,
   "id": "b7f5ff3c",
   "metadata": {},
   "outputs": [],
   "source": [
    "x_train, x_test, y_train, y_test = train_test_split(text_data, binary_labels, test_size=0.3, random_state=42)"
   ]
  },
  {
   "cell_type": "markdown",
   "id": "8c3fa97f",
   "metadata": {},
   "source": [
    "### Preprocess text data"
   ]
  },
  {
   "cell_type": "code",
   "execution_count": 65,
   "id": "f7ffd760",
   "metadata": {},
   "outputs": [],
   "source": [
    "tokenizer = Tokenizer(num_words=5000)\n",
    "tokenizer.fit_on_texts(x_train)\n",
    "sequences_train = tokenizer.texts_to_sequences(x_train)\n",
    "sequences_test = tokenizer.texts_to_sequences(x_test)\n",
    "word_index = tokenizer.word_index\n",
    "max_len = max([len(s) for s in sequences_train + sequences_test])\n",
    "x_train = pad_sequences(sequences_train, maxlen=max_len)\n",
    "x_test = pad_sequences(sequences_test, maxlen=max_len)"
   ]
  },
  {
   "cell_type": "markdown",
   "id": "88287c71",
   "metadata": {},
   "source": [
    "### Build the CNN model"
   ]
  },
  {
   "cell_type": "code",
   "execution_count": 66,
   "id": "df50e896",
   "metadata": {},
   "outputs": [],
   "source": [
    "embedding_dim = 100\n",
    "\n",
    "ann = Sequential()\n",
    "ann.add(Embedding(len(word_index) + 1, embedding_dim, input_length=max_len))\n",
    "ann.add(Conv1D(128, 5, activation='relu'))\n",
    "ann.add(GlobalMaxPooling1D())\n",
    "ann.add(Dense(1, activation='sigmoid'))\n",
    "ann.compile(optimizer='adam', loss='binary_crossentropy', metrics=['accuracy'])"
   ]
  },
  {
   "cell_type": "code",
   "execution_count": 67,
   "id": "7d5b5fe4",
   "metadata": {},
   "outputs": [
    {
     "name": "stdout",
     "output_type": "stream",
     "text": [
      "Model: \"sequential_1\"\n",
      "_________________________________________________________________\n",
      " Layer (type)                Output Shape              Param #   \n",
      "=================================================================\n",
      " embedding (Embedding)       (None, 11305, 100)        30685200  \n",
      "                                                                 \n",
      " conv1d (Conv1D)             (None, 11301, 128)        64128     \n",
      "                                                                 \n",
      " global_max_pooling1d (Globa  (None, 128)              0         \n",
      " lMaxPooling1D)                                                  \n",
      "                                                                 \n",
      " dense_10 (Dense)            (None, 1)                 129       \n",
      "                                                                 \n",
      "=================================================================\n",
      "Total params: 30,749,457\n",
      "Trainable params: 30,749,457\n",
      "Non-trainable params: 0\n",
      "_________________________________________________________________\n"
     ]
    }
   ],
   "source": [
    "ann.summary()"
   ]
  },
  {
   "cell_type": "markdown",
   "id": "71781772",
   "metadata": {},
   "source": [
    "### Train the model"
   ]
  },
  {
   "cell_type": "code",
   "execution_count": 68,
   "id": "d7a8ef71",
   "metadata": {},
   "outputs": [
    {
     "name": "stdout",
     "output_type": "stream",
     "text": [
      "Epoch 1/3\n",
      "3069/3069 [==============================] - 5638s 2s/step - loss: -1361944.2500 - accuracy: 0.1120 - val_loss: -5044241.0000 - val_accuracy: 0.1107\n",
      "Epoch 2/3\n",
      "3069/3069 [==============================] - 8642s 3s/step - loss: -16902398.0000 - accuracy: 0.1120 - val_loss: -34024360.0000 - val_accuracy: 0.1107\n",
      "Epoch 3/3\n",
      "3069/3069 [==============================] - 7788s 3s/step - loss: -63389960.0000 - accuracy: 0.1120 - val_loss: -99215160.0000 - val_accuracy: 0.1107\n"
     ]
    }
   ],
   "source": [
    "history = ann.fit(x_train, y_train, epochs=3, batch_size=32, validation_data=(x_test, y_test))"
   ]
  },
  {
   "cell_type": "markdown",
   "id": "c3bd977b",
   "metadata": {},
   "source": [
    "### Evaluate the model:"
   ]
  },
  {
   "cell_type": "code",
   "execution_count": 82,
   "id": "cf773d86",
   "metadata": {},
   "outputs": [
    {
     "name": "stdout",
     "output_type": "stream",
     "text": [
      "1316/1316 [==============================] - 368s 280ms/step - loss: -99215160.0000 - accuracy: 0.1107\n",
      "Test accuracy: 0.11071241647005081\n"
     ]
    }
   ],
   "source": [
    "loss, accuracy = ann .evaluate(x_test, y_test)\n",
    "print('Test accuracy:', accuracy)"
   ]
  },
  {
   "cell_type": "markdown",
   "id": "d6b11995",
   "metadata": {},
   "source": [
    "# Accuracy Score: 11.07%"
   ]
  },
  {
   "cell_type": "markdown",
   "id": "5dc38672",
   "metadata": {},
   "source": [
    "# Models Evalution:"
   ]
  },
  {
   "cell_type": "markdown",
   "id": "cb4a5e16",
   "metadata": {},
   "source": [
    "1)MLP Classifier\n",
    "Accuracy = 62.5 %\n",
    "2)NAIVE\n",
    "Accuracy = 36.9 %\n",
    "3)ANN\n",
    "Accuracy = 59.1 %\n",
    "4)CNN\n",
    "Accuracy = 11.07%\n",
    "5)RANDOM FOREST\n",
    "Accuracy = 57.8%\n",
    "6)LSTM\n",
    "Accuracy = 11.07%"
   ]
  },
  {
   "cell_type": "markdown",
   "id": "da928f3c",
   "metadata": {},
   "source": [
    "# Conclusion"
   ]
  },
  {
   "cell_type": "markdown",
   "id": "a653c715",
   "metadata": {},
   "source": [
    "In this Notebook, I demonstrated various machine learning &  deep learning algorithms, I have used MLP, NAIVE, ANN, RANDOM FOREST,CNN, LSTM mechanism for the above the dataset. You can further enhance the performance of your model \n",
    "\n",
    "->Using other deep learning algorithms like GRU and BERT which are more suited for text classification problems.\n",
    "->Using advanced word-embedding methods like GloVe and BERT"
   ]
  },
  {
   "cell_type": "code",
   "execution_count": null,
   "id": "47b51b5f",
   "metadata": {},
   "outputs": [],
   "source": []
  }
 ],
 "metadata": {
  "kernelspec": {
   "display_name": "TensorEnv",
   "language": "python",
   "name": "tensorenv"
  },
  "language_info": {
   "codemirror_mode": {
    "name": "ipython",
    "version": 3
   },
   "file_extension": ".py",
   "mimetype": "text/x-python",
   "name": "python",
   "nbconvert_exporter": "python",
   "pygments_lexer": "ipython3",
   "version": "3.10.10"
  }
 },
 "nbformat": 4,
 "nbformat_minor": 5
}
