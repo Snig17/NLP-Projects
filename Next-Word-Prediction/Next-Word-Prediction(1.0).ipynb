{
 "cells": [
  {
   "cell_type": "markdown",
   "id": "e4f430cc",
   "metadata": {},
   "source": [
    "# Next-Word-Prediction"
   ]
  },
  {
   "cell_type": "markdown",
   "id": "244d1349",
   "metadata": {},
   "source": [
    "# Step 1: Import libraries"
   ]
  },
  {
   "cell_type": "code",
   "execution_count": 1,
   "id": "d68cd968",
   "metadata": {},
   "outputs": [
    {
     "name": "stdout",
     "output_type": "stream",
     "text": [
      "Requirement already satisfied: pydot in c:\\users\\snigdha\\anaconda3\\lib\\site-packages (1.4.2)\n",
      "Requirement already satisfied: pyparsing>=2.1.4 in c:\\users\\snigdha\\anaconda3\\lib\\site-packages (from pydot) (3.0.9)\n"
     ]
    }
   ],
   "source": [
    "import tensorflow as tf\n",
    "from tensorflow.keras.preprocessing.text import Tokenizer\n",
    "from tensorflow.keras.layers import Embedding, LSTM, Dense\n",
    "from tensorflow.keras.models import Sequential\n",
    "from tensorflow.keras.utils import to_categorical\n",
    "from tensorflow.keras.optimizers import Adam\n",
    "import pickle\n",
    "import numpy as np\n",
    "import os\n",
    "!pip install pydot\n",
    "import matplotlib.pyplot as plt"
   ]
  },
  {
   "cell_type": "markdown",
   "id": "9a12ff83",
   "metadata": {},
   "source": [
    "# Step 2: Load your file"
   ]
  },
  {
   "cell_type": "code",
   "execution_count": 2,
   "id": "e24c4071",
   "metadata": {},
   "outputs": [],
   "source": [
    "path = \"C:\\\\Users\\\\Snigdha\\\\OneDrive\\\\Desktop\\\\New folder\\\\pg145.txt\""
   ]
  },
  {
   "cell_type": "markdown",
   "id": "face3fe1",
   "metadata": {},
   "source": [
    "# Step 3: Open and pre-process the data"
   ]
  },
  {
   "cell_type": "code",
   "execution_count": 3,
   "id": "f3af4985",
   "metadata": {},
   "outputs": [
    {
     "data": {
      "text/plain": [
       "'The Project Gutenberg eBook of Middlemarch, by George Eliot This eBook is for the use of anyone anywhere in the United States and most other parts of the world at no cost and with almost no restrictions whatsoever. You may copy it, give it away or re-use it under the terms of the Project Gutenberg License included with this eBook or online at www.gutenberg.org. If you are not located in the United States, you will have to check the laws of the country where you are located before using this eBoo'"
      ]
     },
     "execution_count": 3,
     "metadata": {},
     "output_type": "execute_result"
    }
   ],
   "source": [
    "file = open(\"C:\\\\Users\\\\Snigdha\\\\OneDrive\\\\Desktop\\\\New folder\\\\pg145.txt\", \"r\", encoding = \"utf8\")\n",
    "\n",
    "# store file in list\n",
    "lines = []\n",
    "for i in file:\n",
    "    lines.append(i)\n",
    "\n",
    "# Convert list to string\n",
    "data = \"\"\n",
    "for i in lines:\n",
    "  data = ' '. join(lines) \n",
    "\n",
    "#replace unnecessary stuff with space\n",
    "data = data.replace('\\n', '').replace('\\r', '').replace('\\ufeff', '').replace('“','').replace('”','')  #new line, carriage return, unicode character --> replace by space\n",
    "\n",
    "#remove unnecessary spaces \n",
    "data = data.split()\n",
    "data = ' '.join(data)\n",
    "data[:500]"
   ]
  },
  {
   "cell_type": "code",
   "execution_count": 5,
   "id": "a86371a2",
   "metadata": {},
   "outputs": [
    {
     "data": {
      "text/plain": [
       "1783493"
      ]
     },
     "execution_count": 5,
     "metadata": {},
     "output_type": "execute_result"
    }
   ],
   "source": [
    "len(data)"
   ]
  },
  {
   "cell_type": "markdown",
   "id": "b98b3930",
   "metadata": {},
   "source": [
    "# Step 4: Apply tokenization and some other changes"
   ]
  },
  {
   "cell_type": "code",
   "execution_count": 6,
   "id": "ec8bdcbe",
   "metadata": {},
   "outputs": [
    {
     "data": {
      "text/plain": [
       "[1, 366, 358, 1985, 3, 158, 32, 2247, 5558, 35, 1985, 24, 20, 1, 258]"
      ]
     },
     "execution_count": 6,
     "metadata": {},
     "output_type": "execute_result"
    }
   ],
   "source": [
    "tokenizer = Tokenizer()\n",
    "tokenizer.fit_on_texts([data])\n",
    "\n",
    "# saving the tokenizer for predict function\n",
    "pickle.dump(tokenizer, open('token.pkl', 'wb'))\n",
    "\n",
    "sequence_data = tokenizer.texts_to_sequences([data])[0]\n",
    "sequence_data[:15]"
   ]
  },
  {
   "cell_type": "code",
   "execution_count": 7,
   "id": "593056b9",
   "metadata": {},
   "outputs": [
    {
     "data": {
      "text/plain": [
       "321821"
      ]
     },
     "execution_count": 7,
     "metadata": {},
     "output_type": "execute_result"
    }
   ],
   "source": [
    "len(sequence_data)"
   ]
  },
  {
   "cell_type": "code",
   "execution_count": 8,
   "id": "5efa7fa3",
   "metadata": {},
   "outputs": [
    {
     "name": "stdout",
     "output_type": "stream",
     "text": [
      "17871\n"
     ]
    }
   ],
   "source": [
    "vocab_size = len(tokenizer.word_index) + 1\n",
    "print(vocab_size)"
   ]
  },
  {
   "cell_type": "code",
   "execution_count": 9,
   "id": "a09c6600",
   "metadata": {},
   "outputs": [
    {
     "name": "stdout",
     "output_type": "stream",
     "text": [
      "The Length of sequences are:  321818\n"
     ]
    },
    {
     "data": {
      "text/plain": [
       "array([[   1,  366,  358, 1985],\n",
       "       [ 366,  358, 1985,    3],\n",
       "       [ 358, 1985,    3,  158],\n",
       "       [1985,    3,  158,   32],\n",
       "       [   3,  158,   32, 2247],\n",
       "       [ 158,   32, 2247, 5558],\n",
       "       [  32, 2247, 5558,   35],\n",
       "       [2247, 5558,   35, 1985],\n",
       "       [5558,   35, 1985,   24],\n",
       "       [  35, 1985,   24,   20]])"
      ]
     },
     "execution_count": 9,
     "metadata": {},
     "output_type": "execute_result"
    }
   ],
   "source": [
    "sequences = []\n",
    "\n",
    "for i in range(3, len(sequence_data)):\n",
    "    words = sequence_data[i-3:i+1]\n",
    "    sequences.append(words)\n",
    "    \n",
    "print(\"The Length of sequences are: \", len(sequences))\n",
    "sequences = np.array(sequences)\n",
    "sequences[:10]\n"
   ]
  },
  {
   "cell_type": "code",
   "execution_count": 10,
   "id": "cc050bb8",
   "metadata": {},
   "outputs": [],
   "source": [
    "X = []\n",
    "y = []\n",
    "\n",
    "for i in sequences:\n",
    "    X.append(i[0:3])\n",
    "    y.append(i[3])\n",
    "    \n",
    "X = np.array(X)\n",
    "y = np.array(y)"
   ]
  },
  {
   "cell_type": "code",
   "execution_count": 11,
   "id": "f9429983",
   "metadata": {},
   "outputs": [
    {
     "name": "stdout",
     "output_type": "stream",
     "text": [
      "Data:  [[   1  366  358]\n",
      " [ 366  358 1985]\n",
      " [ 358 1985    3]\n",
      " [1985    3  158]\n",
      " [   3  158   32]\n",
      " [ 158   32 2247]\n",
      " [  32 2247 5558]\n",
      " [2247 5558   35]\n",
      " [5558   35 1985]\n",
      " [  35 1985   24]]\n",
      "Response:  [1985    3  158   32 2247 5558   35 1985   24   20]\n"
     ]
    }
   ],
   "source": [
    "print(\"Data: \", X[:10])\n",
    "print(\"Response: \", y[:10])"
   ]
  },
  {
   "cell_type": "code",
   "execution_count": 12,
   "id": "b8cc045e",
   "metadata": {},
   "outputs": [
    {
     "data": {
      "text/plain": [
       "array([[0., 0., 0., ..., 0., 0., 0.],\n",
       "       [0., 0., 0., ..., 0., 0., 0.],\n",
       "       [0., 0., 0., ..., 0., 0., 0.],\n",
       "       [0., 0., 0., ..., 0., 0., 0.],\n",
       "       [0., 0., 0., ..., 0., 0., 0.]], dtype=float32)"
      ]
     },
     "execution_count": 12,
     "metadata": {},
     "output_type": "execute_result"
    }
   ],
   "source": [
    "y = to_categorical(y, num_classes=vocab_size)\n",
    "y[:5]"
   ]
  },
  {
   "cell_type": "markdown",
   "id": "9e1e7018",
   "metadata": {},
   "source": [
    "# Step 5: Creating the model"
   ]
  },
  {
   "cell_type": "code",
   "execution_count": 13,
   "id": "e95707f0",
   "metadata": {},
   "outputs": [],
   "source": [
    "model = Sequential()\n",
    "model.add(Embedding(vocab_size, 10, input_length=3))\n",
    "model.add(LSTM(1000, return_sequences=True))\n",
    "model.add(LSTM(1000))\n",
    "model.add(Dense(1000, activation=\"relu\"))\n",
    "model.add(Dense(vocab_size, activation=\"softmax\"))"
   ]
  },
  {
   "cell_type": "code",
   "execution_count": 15,
   "id": "67bf7691",
   "metadata": {},
   "outputs": [
    {
     "name": "stdout",
     "output_type": "stream",
     "text": [
      "Model: \"sequential\"\n",
      "_________________________________________________________________\n",
      " Layer (type)                Output Shape              Param #   \n",
      "=================================================================\n",
      " embedding (Embedding)       (None, 3, 10)             178710    \n",
      "                                                                 \n",
      " lstm (LSTM)                 (None, 3, 1000)           4044000   \n",
      "                                                                 \n",
      " lstm_1 (LSTM)               (None, 1000)              8004000   \n",
      "                                                                 \n",
      " dense (Dense)               (None, 1000)              1001000   \n",
      "                                                                 \n",
      " dense_1 (Dense)             (None, 17871)             17888871  \n",
      "                                                                 \n",
      "=================================================================\n",
      "Total params: 31,116,581\n",
      "Trainable params: 31,116,581\n",
      "Non-trainable params: 0\n",
      "_________________________________________________________________\n"
     ]
    }
   ],
   "source": [
    "model.summary()"
   ]
  },
  {
   "cell_type": "markdown",
   "id": "b9255844",
   "metadata": {},
   "source": [
    "# Step 6: Plot the model"
   ]
  },
  {
   "cell_type": "code",
   "execution_count": 16,
   "id": "5f405135",
   "metadata": {},
   "outputs": [
    {
     "name": "stdout",
     "output_type": "stream",
     "text": [
      "You must install pydot (`pip install pydot`) and install graphviz (see instructions at https://graphviz.gitlab.io/download/) for plot_model to work.\n"
     ]
    }
   ],
   "source": [
    "from tensorflow import keras\n",
    "from keras.utils.vis_utils import plot_model\n",
    "\n",
    "keras.utils.plot_model(model, to_file='plot.png', show_layer_names=True)"
   ]
  },
  {
   "attachments": {
    "image.png": {
     "image/png": "[encoded data removed]"
    }
   },
   "cell_type": "markdown",
   "id": "32b9e342",
   "metadata": {},
   "source": [
    "![image.png](attachment:image.png)"
   ]
  },
  {
   "cell_type": "markdown",
   "id": "ee4d02d8",
   "metadata": {},
   "source": [
    "# Step 7: Train the model"
   ]
  },
  {
   "cell_type": "code",
   "execution_count": 17,
   "id": "9e2c3090",
   "metadata": {},
   "outputs": [],
   "source": [
    "from tensorflow.keras.callbacks import ModelCheckpoint\n",
    "from tensorflow.keras import Model\n",
    "\n",
    "checkpoint = ModelCheckpoint(\"next_words.h5\", monitor='loss', verbose=1, save_best_only=True)"
   ]
  },
  {
   "cell_type": "code",
   "execution_count": 18,
   "id": "443d12c1",
   "metadata": {},
   "outputs": [],
   "source": [
    "model.compile(loss=\"categorical_crossentropy\", optimizer=Adam(learning_rate=0.001))\n"
   ]
  },
  {
   "cell_type": "code",
   "execution_count": 19,
   "id": "0252c8e1",
   "metadata": {},
   "outputs": [
    {
     "name": "stdout",
     "output_type": "stream",
     "text": [
      "Epoch 1/3\n",
      "5029/5029 [==============================] - ETA: 0s - loss: 6.3798\n",
      "Epoch 1: loss improved from inf to 6.37982, saving model to next_words.h5\n",
      "5029/5029 [==============================] - 666s 131ms/step - loss: 6.3798\n",
      "Epoch 2/3\n",
      "5029/5029 [==============================] - ETA: 0s - loss: 5.7952\n",
      "Epoch 2: loss improved from 6.37982 to 5.79525, saving model to next_words.h5\n",
      "5029/5029 [==============================] - 704s 140ms/step - loss: 5.7952\n",
      "Epoch 3/3\n",
      "5029/5029 [==============================] - ETA: 0s - loss: 5.5164\n",
      "Epoch 3: loss improved from 5.79525 to 5.51639, saving model to next_words.h5\n",
      "5029/5029 [==============================] - 680s 135ms/step - loss: 5.5164\n"
     ]
    }
   ],
   "source": [
    "history = model.fit(X, y, epochs=3, batch_size=64, callbacks=[checkpoint])"
   ]
  },
  {
   "cell_type": "code",
   "execution_count": 21,
   "id": "9d73a0c9",
   "metadata": {},
   "outputs": [],
   "source": [
    "from tensorflow.keras.models import load_model\n",
    "import numpy as np\n",
    "import pickle\n",
    "\n",
    "# Load the model and tokenizer\n",
    "pickle.dump(tokenizer, open('token.pkl', 'wb'))\n",
    "model = load_model('next_words.h5')\n",
    "tokenizer = pickle.load(open('token.pkl', 'rb'))\n",
    "\n",
    "\n",
    "def Predict_Next_Words(model, tokenizer, text):\n",
    "\n",
    "  sequence = tokenizer.texts_to_sequences([text])\n",
    "  sequence = np.array(sequence)\n",
    "  preds = np.argmax(model.predict(sequence))\n",
    "  predicted_word = \"\"\n",
    "  \n",
    "  for key, value in tokenizer.word_index.items():\n",
    "      if value == preds:\n",
    "          predicted_word = key\n",
    "          break\n",
    "  \n",
    "  print(predicted_word)\n",
    "  return predicted_word"
   ]
  },
  {
   "cell_type": "code",
   "execution_count": 22,
   "id": "3c2bcf12",
   "metadata": {},
   "outputs": [
    {
     "name": "stdout",
     "output_type": "stream",
     "text": [
      "enter your line: If you are not located in the United States, you will have to check the laws of the\n",
      "['laws', 'of', 'the']\n",
      "1/1 [==============================] - 2s 2s/step\n",
      "world\n",
      "enter your line: and deed in noble agreement; but after all, to common eyes their struggles \n",
      "['their', 'struggles', '']\n",
      "1/1 [==============================] - 1s 1s/step\n",
      "of\n",
      "enter your line: Meanwhile the indefiniteness remains, and the limits of variation are really much wider than \n",
      "['wider', 'than', '']\n",
      "1/1 [==============================] - 0s 31ms/step\n",
      "the\n",
      "enter your line: The Project Gutenberg eBook of \n",
      "['eBook', 'of', '']\n",
      "1/1 [==============================] - 0s 32ms/step\n",
      "the\n",
      "enter your line: This eBook is for the use of anyone anywhere\n",
      "['of', 'anyone', 'anywhere']\n",
      "1/1 [==============================] - 0s 47ms/step\n",
      "and\n",
      "enter your line: 0\n",
      "Execution completed.....\n"
     ]
    }
   ],
   "source": [
    "while(True):\n",
    "  text = input(\"Enter your line: \".lower())\n",
    "  \n",
    "  if text == \"0\":\n",
    "      print(\"Execution completed.....\")\n",
    "      break\n",
    "  \n",
    "  else:\n",
    "      try:\n",
    "          text = text.split(\" \")\n",
    "          text = text[-3:]\n",
    "          print(text)\n",
    "        \n",
    "          Predict_Next_Words(model, tokenizer, text)\n",
    "          \n",
    "      except Exception as e:\n",
    "        print(\"Error occurred: \",e)\n",
    "        continue\n"
   ]
  },
  {
   "cell_type": "code",
   "execution_count": null,
   "id": "74350a3b",
   "metadata": {},
   "outputs": [],
   "source": []
  }
 ],
 "metadata": {
  "kernelspec": {
   "display_name": "TensorEnv",
   "language": "python",
   "name": "tensorenv"
  },
  "language_info": {
   "codemirror_mode": {
    "name": "ipython",
    "version": 3
   },
   "file_extension": ".py",
   "mimetype": "text/x-python",
   "name": "python",
   "nbconvert_exporter": "python",
   "pygments_lexer": "ipython3",
   "version": "3.10.10"
  }
 },
 "nbformat": 4,
 "nbformat_minor": 5
}
